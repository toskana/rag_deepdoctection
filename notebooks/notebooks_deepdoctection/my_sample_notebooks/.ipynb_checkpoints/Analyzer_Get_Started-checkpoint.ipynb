{
 "cells": [
  {
   "cell_type": "markdown",
   "metadata": {},
   "source": [
    "![title](./pics/dd_logo.png) \n",
    "\n",
    "\n",
    "# Getting started\n",
    "\n",
    "**deep**doctection is a package that can be used to extract text from complex structured documents. It also allows you to run vision/text and multi-modal models in an end-to-end pipeline. Inputs can be native PDFs or images. It is very versatile.\n",
    "\n",
    "Compared to most other parsers, **deep**doctection offers extensive configurability. We will explore these capabilities in more detail in other notebooks.\n",
    "\n",
    "This notebook will introduce you to the essential basics of document parsing with **deep**doctection.\n",
    "\n",
    "We assume that, in addition to **deep**doctection, the transformers and python-doctr packages are installed if you are using PyTorch as your deep learning framework. \n",
    "\n",
    "If you are using TensorFlow, tensorpack must be installed instead.\n",
    "\n",
    "Please note that TensorFlow is no longer supported from Python 3.11 onward, and its functionality within **deep**doctection is significantly more limited.\n",
    "\n",
    "We recommend not using the TensorFlow setup anymore.\n",
    "\n",
    "You will also need matplotlib that you can install with \n",
    "\n",
    "```\n",
    "pip install matplotlib\n",
    "```"
   ]
  },
  {
   "cell_type": "code",
   "execution_count": 1,
   "metadata": {},
   "outputs": [
    {
     "name": "stderr",
     "output_type": "stream",
     "text": [
      "\u001b[32m[0716 18:30.16 @file_utils.py:31]\u001b[0m  \u001b[32mINF\u001b[0m  \u001b[97mPyTorch version 1.13.1+cu117 available.\u001b[0m\n",
      "\u001b[32m[0716 18:30.16 @file_utils.py:69]\u001b[0m  \u001b[32mINF\u001b[0m  \u001b[97mDisabling Tensorflow because USE_TORCH is set\u001b[0m\n"
     ]
    }
   ],
   "source": [
    "from pathlib import Path\n",
    "from matplotlib import pyplot as plt\n",
    "from IPython.core.display import HTML\n",
    "\n",
    "import deepdoctection as dd"
   ]
  },
  {
   "cell_type": "markdown",
   "metadata": {},
   "source": [
    "## Sample\n",
    "\n",
    "Take an image (e.g. .png, .jpg, ...). If you take the example below you'll maybe need to change ```image_path```."
   ]
  },
  {
   "cell_type": "code",
   "execution_count": null,
   "metadata": {},
   "outputs": [],
   "source": [
    "image_path = Path.cwd() / \"pics/samples/sample_2/sample_2.png\"\n",
    "\n",
    "# viz_handler is a helper class that helps you e.g. with reading or writing images\n",
    "image = dd.viz_handler.read_image(image_path)\n",
    "plt.figure(figsize = (25,17))\n",
    "plt.axis('off')\n",
    "plt.imshow(image)"
   ]
  },
  {
   "cell_type": "markdown",
   "metadata": {},
   "source": [
    "![title](./pics/samples/sample_2/sample_2.png)"
   ]
  },
  {
   "cell_type": "markdown",
   "metadata": {},
   "source": [
    "## Analyzer\n",
    "\n",
    "Next, we instantiate the **deep**doctection analyzer. The analyzer is an example of a pipeline that can be built depending on the problem you want to tackle. This particular pipeline is built from various building blocks. We will come back to this later. \n",
    "\n",
    "We will be using the default configuration."
   ]
  },
  {
   "cell_type": "code",
   "execution_count": 2,
   "metadata": {},
   "outputs": [
    {
     "name": "stderr",
     "output_type": "stream",
     "text": [
      "\u001b[32m[0716 18:32.02 @dd.py:129]\u001b[0m  \u001b[32mINF\u001b[0m  \u001b[97mConfig: \n",
      " {'DEVICE': device(type='cuda'),\n",
      " 'LANGUAGE': None,\n",
      " 'LAYOUT_LINK': {'CHILD_CATEGORIES': [<LayoutType.CAPTION>],\n",
      "                 'PARENTAL_CATEGORIES': [<LayoutType.FIGURE>, <LayoutType.TABLE>]},\n",
      " 'LAYOUT_NMS_PAIRS': {'COMBINATIONS': [[<LayoutType.TABLE>, <LayoutType.TITLE>],\n",
      "                                       [<LayoutType.TABLE>, <LayoutType.TEXT>],\n",
      "                                       [<LayoutType.TABLE>, <LayoutType.KEY_VALUE_AREA>],\n",
      "                                       [<LayoutType.TABLE>, <LayoutType.LIST_ITEM>],\n",
      "                                       [<LayoutType.TABLE>, <LayoutType.LIST>],\n",
      "                                       [<LayoutType.TABLE>, <LayoutType.FIGURE>],\n",
      "                                       [<LayoutType.TITLE>, <LayoutType.TEXT>],\n",
      "                                       [<LayoutType.TEXT>, <LayoutType.KEY_VALUE_AREA>],\n",
      "                                       [<LayoutType.TEXT>, <LayoutType.LIST_ITEM>],\n",
      "                                       [<LayoutType.TEXT>, <LayoutType.CAPTION>],\n",
      "                                       [<LayoutType.KEY_VALUE_AREA>, <LayoutType.LIST_ITEM>],\n",
      "                                       [<LayoutType.FIGURE>, <LayoutType.CAPTION>]],\n",
      "                      'PRIORITY': [<LayoutType.TABLE>, <LayoutType.TABLE>, <LayoutType.TABLE>,\n",
      "                                   <LayoutType.TABLE>, <LayoutType.TABLE>, <LayoutType.TABLE>,\n",
      "                                   <LayoutType.TEXT>, <LayoutType.TEXT>, None, <LayoutType.CAPTION>,\n",
      "                                   <LayoutType.KEY_VALUE_AREA>, <LayoutType.FIGURE>],\n",
      "                      'THRESHOLDS': [0.001, 0.01, 0.01, 0.001, 0.01, 0.01, 0.05, 0.01, 0.01, 0.01,\n",
      "                                     0.01, 0.001]},\n",
      " 'LIB': 'PT',\n",
      " 'OCR': {'CONFIG': {'TESSERACT': 'dd/conf_tesseract.yaml'},\n",
      "         'USE_DOCTR': True,\n",
      "         'USE_TESSERACT': False,\n",
      "         'USE_TEXTRACT': False,\n",
      "         'WEIGHTS': {'DOCTR_RECOGNITION': {'PT': 'doctr/crnn_vgg16_bn/pt/crnn_vgg16_bn-9762b0b0.pt',\n",
      "                                           'TF': 'doctr/crnn_vgg16_bn/tf/crnn_vgg16_bn-76b7f2c6.zip'},\n",
      "                     'DOCTR_WORD': {'PT': 'doctr/db_resnet50/pt/db_resnet50-ac60cadc.pt',\n",
      "                                    'TF': 'doctr/db_resnet50/tf/db_resnet50-adcafc63.zip'}}},\n",
      " 'PDF_MINER': {'X_TOLERANCE': 3, 'Y_TOLERANCE': 3},\n",
      " 'PT': {'CELL': {'FILTER': None,\n",
      "                 'PAD': {'BOTTOM': 60, 'LEFT': 60, 'RIGHT': 60, 'TOP': 60},\n",
      "                 'PADDING': False,\n",
      "                 'WEIGHTS': 'cell/d2_model_1849999_cell_inf_only.pt',\n",
      "                 'WEIGHTS_TS': 'cell/d2_model_1849999_cell_inf_only.ts'},\n",
      "        'ENFORCE_WEIGHTS': {'CELL': False, 'ITEM': False, 'LAYOUT': False},\n",
      "        'ITEM': {'FILTER': ['table'],\n",
      "                 'PAD': {'BOTTOM': 60, 'LEFT': 60, 'RIGHT': 60, 'TOP': 60},\n",
      "                 'PADDING': False,\n",
      "                 'WEIGHTS': 'deepdoctection/tatr_tab_struct_v2/pytorch_model.bin',\n",
      "                 'WEIGHTS_TS': 'item/d2_model_1639999_item_inf_only.ts'},\n",
      "        'LAYOUT': {'FILTER': None,\n",
      "                   'PAD': {'BOTTOM': 0, 'LEFT': 0, 'RIGHT': 0, 'TOP': 0},\n",
      "                   'PADDING': False,\n",
      "                   'WEIGHTS': 'Aryn/deformable-detr-DocLayNet/model.safetensors',\n",
      "                   'WEIGHTS_TS': 'layout/d2_model_0829999_layout_inf_only.ts'}},\n",
      " 'SEGMENTATION': {'ASSIGNMENT_RULE': 'ioa',\n",
      "                  'CELL_NAMES': [<CellType.HEADER>, <CellType.BODY>, <LayoutType.CELL>],\n",
      "                  'FULL_TABLE_TILING': True,\n",
      "                  'ITEM_NAMES': [<LayoutType.ROW>, <LayoutType.COLUMN>],\n",
      "                  'PUBTABLES_CELL_NAMES': [<LayoutType.CELL>],\n",
      "                  'PUBTABLES_ITEM_HEADER_CELL_NAMES': [<CellType.COLUMN_HEADER>,\n",
      "                                                       <CellType.ROW_HEADER>,\n",
      "                                                       <CellType.PROJECTED_ROW_HEADER>],\n",
      "                  'PUBTABLES_ITEM_HEADER_THRESHOLDS': [0.6, 0.0001],\n",
      "                  'PUBTABLES_ITEM_NAMES': [<LayoutType.ROW>, <LayoutType.COLUMN>],\n",
      "                  'PUBTABLES_SPANNING_CELL_NAMES': [<CellType.SPANNING>],\n",
      "                  'PUBTABLES_SUB_ITEM_NAMES': [<CellType.ROW_NUMBER>, <CellType.COLUMN_NUMBER>],\n",
      "                  'REMOVE_IOU_THRESHOLD_COLS': 0.2,\n",
      "                  'REMOVE_IOU_THRESHOLD_ROWS': 0.2,\n",
      "                  'STRETCH_RULE': 'equal',\n",
      "                  'SUB_ITEM_NAMES': [<CellType.ROW_NUMBER>, <CellType.COLUMN_NUMBER>],\n",
      "                  'TABLE_NAME': <LayoutType.TABLE>,\n",
      "                  'THRESHOLD_COLS': 0.4,\n",
      "                  'THRESHOLD_ROWS': 0.4},\n",
      " 'TEXT_CONTAINER': <LayoutType.WORD>,\n",
      " 'TEXT_ORDERING': {'BROKEN_LINE_TOLERANCE': 0.003,\n",
      "                   'FLOATING_TEXT_BLOCK_CATEGORIES': (<LayoutType.TEXT>, <LayoutType.TITLE>,\n",
      "                                                      <LayoutType.LIST>,\n",
      "                                                      <LayoutType.KEY_VALUE_AREA>),\n",
      "                   'HEIGHT_TOLERANCE': 2.0,\n",
      "                   'INCLUDE_RESIDUAL_TEXT_CONTAINER': True,\n",
      "                   'PARAGRAPH_BREAK': 0.035,\n",
      "                   'STARTING_POINT_TOLERANCE': 0.005,\n",
      "                   'TEXT_BLOCK_CATEGORIES': (<LayoutType.TEXT>, <LayoutType.TITLE>,\n",
      "                                             <LayoutType.LIST_ITEM>, <LayoutType.LIST>,\n",
      "                                             <LayoutType.CAPTION>, <LayoutType.PAGE_HEADER>,\n",
      "                                             <LayoutType.PAGE_FOOTER>, <LayoutType.PAGE_NUMBER>,\n",
      "                                             <LayoutType.MARK>, <LayoutType.KEY_VALUE_AREA>,\n",
      "                                             <LayoutType.FIGURE>, <CellType.SPANNING>,\n",
      "                                             <LayoutType.CELL>)},\n",
      " 'TF': {'CELL': {'FILTER': None, 'WEIGHTS': 'cell/model-1800000_inf_only.data-00000-of-00001'},\n",
      "        'ITEM': {'FILTER': None, 'WEIGHTS': 'item/model-1620000_inf_only.data-00000-of-00001'},\n",
      "        'LAYOUT': {'FILTER': None, 'WEIGHTS': 'layout/model-800000_inf_only.data-00000-of-00001'}},\n",
      " 'USE_LAYOUT': True,\n",
      " 'USE_LAYOUT_LINK': False,\n",
      " 'USE_LAYOUT_NMS': True,\n",
      " 'USE_LINE_MATCHER': False,\n",
      " 'USE_OCR': True,\n",
      " 'USE_PDF_MINER': False,\n",
      " 'USE_ROTATOR': False,\n",
      " 'USE_TABLE_REFINEMENT': False,\n",
      " 'USE_TABLE_SEGMENTATION': True,\n",
      " 'WORD_MATCHING': {'MAX_PARENT_ONLY': True,\n",
      "                   'PARENTAL_CATEGORIES': (<LayoutType.TEXT>, <LayoutType.TITLE>,\n",
      "                                           <LayoutType.LIST_ITEM>, <LayoutType.LIST>,\n",
      "                                           <LayoutType.CAPTION>, <LayoutType.PAGE_HEADER>,\n",
      "                                           <LayoutType.PAGE_FOOTER>, <LayoutType.PAGE_NUMBER>,\n",
      "                                           <LayoutType.MARK>, <LayoutType.KEY_VALUE_AREA>,\n",
      "                                           <LayoutType.FIGURE>, <CellType.SPANNING>,\n",
      "                                           <LayoutType.CELL>),\n",
      "                   'RULE': 'ioa',\n",
      "                   'THRESHOLD': 0.3}}\u001b[0m\n",
      "/usr/local/lib/python3.10/dist-packages/huggingface_hub/file_download.py:937: FutureWarning: The `force_filename` parameter is deprecated as a new caching system, which keeps the filenames as they are on the Hub, is now in place.\n",
      "  warnings.warn(\n"
     ]
    },
    {
     "data": {
      "application/vnd.jupyter.widget-view+json": {
       "model_id": "d7318e5a41e6433db876dc39567dd065",
       "version_major": 2,
       "version_minor": 0
      },
      "text/plain": [
       "d2_model_0829999_layout_inf_only.ts:   0%|          | 0.00/275M [00:00<?, ?B/s]"
      ]
     },
     "metadata": {},
     "output_type": "display_data"
    },
    {
     "name": "stderr",
     "output_type": "stream",
     "text": [
      "\u001b[32m[0716 18:32.51 @model.py:452]\u001b[0m  \u001b[4m\u001b[5m\u001b[31mERR\u001b[0m  \u001b[97mFile downloaded from deepdoctection/d2_casc_rcnn_X_32xd4_50_FPN_GN_2FC_publaynet_inference_only does not match the expected size! You may have downloaded a broken file, or the upstream may have modified the file.\u001b[0m\n"
     ]
    },
    {
     "data": {
      "application/vnd.jupyter.widget-view+json": {
       "model_id": "18d7ed6c92bf464bb41926526f866d20",
       "version_major": 2,
       "version_minor": 0
      },
      "text/plain": [
       "CASCADE_RCNN_R_50_FPN_GN_TS.yaml:   0%|          | 0.00/143 [00:00<?, ?B/s]"
      ]
     },
     "metadata": {},
     "output_type": "display_data"
    },
    {
     "data": {
      "application/vnd.jupyter.widget-view+json": {
       "model_id": "37f26f3b9e9443dba8d7ac56835b5df4",
       "version_major": 2,
       "version_minor": 0
      },
      "text/plain": [
       "d2_model_1639999_item_inf_only.ts:   0%|          | 0.00/275M [00:00<?, ?B/s]"
      ]
     },
     "metadata": {},
     "output_type": "display_data"
    },
    {
     "name": "stderr",
     "output_type": "stream",
     "text": [
      "\u001b[32m[0716 18:33.40 @model.py:452]\u001b[0m  \u001b[4m\u001b[5m\u001b[31mERR\u001b[0m  \u001b[97mFile downloaded from deepdoctection/d2_casc_rcnn_X_32xd4_50_FPN_GN_2FC_pubtabnet_rc_inference_only does not match the expected size! You may have downloaded a broken file, or the upstream may have modified the file.\u001b[0m\n"
     ]
    },
    {
     "data": {
      "application/vnd.jupyter.widget-view+json": {
       "model_id": "df33ee6305544e5294ef7a6ebc40977c",
       "version_major": 2,
       "version_minor": 0
      },
      "text/plain": [
       "CASCADE_RCNN_R_50_FPN_GN_TS.yaml:   0%|          | 0.00/143 [00:00<?, ?B/s]"
      ]
     },
     "metadata": {},
     "output_type": "display_data"
    },
    {
     "data": {
      "application/vnd.jupyter.widget-view+json": {
       "model_id": "39dcad0b66c449509ead92ccd0c58980",
       "version_major": 2,
       "version_minor": 0
      },
      "text/plain": [
       "d2_model_1849999_cell_inf_only.ts:   0%|          | 0.00/275M [00:00<?, ?B/s]"
      ]
     },
     "metadata": {},
     "output_type": "display_data"
    },
    {
     "name": "stderr",
     "output_type": "stream",
     "text": [
      "\u001b[32m[0716 18:34.30 @model.py:452]\u001b[0m  \u001b[4m\u001b[5m\u001b[31mERR\u001b[0m  \u001b[97mFile downloaded from deepdoctection/d2_casc_rcnn_X_32xd4_50_FPN_GN_2FC_pubtabnet_c_inference_only does not match the expected size! You may have downloaded a broken file, or the upstream may have modified the file.\u001b[0m\n"
     ]
    },
    {
     "data": {
      "application/vnd.jupyter.widget-view+json": {
       "model_id": "f2b625d76f534b2db94559e190f42f73",
       "version_major": 2,
       "version_minor": 0
      },
      "text/plain": [
       "CASCADE_RCNN_R_50_FPN_GN_TS.yaml:   0%|          | 0.00/141 [00:00<?, ?B/s]"
      ]
     },
     "metadata": {},
     "output_type": "display_data"
    },
    {
     "name": "stderr",
     "output_type": "stream",
     "text": [
      "\u001b[32m[0716 18:34.30 @fs.py:142]\u001b[0m  \u001b[32mINF\u001b[0m  \u001b[97mFile db_resnet50-ac60cadc.pt will be downloaded.\u001b[0m\n",
      "db_resnet50-ac60cadc.pt: |          |102M/?[00:18<00:00,5.48MB/s]\n",
      "\u001b[32m[0716 18:34.49 @fs.py:171]\u001b[0m  \u001b[32mINF\u001b[0m  \u001b[97mSuccessfully downloaded db_resnet50-ac60cadc.pt. 97.2MiB.\u001b[0m\n",
      "\u001b[32m[0716 18:34.50 @fs.py:142]\u001b[0m  \u001b[32mINF\u001b[0m  \u001b[97mFile crnn_vgg16_bn-9762b0b0.pt will be downloaded.\u001b[0m\n",
      "crnn_vgg16_bn-9762b0b0.pt: |          |63.3M/?[00:11<00:00,5.35MB/s]\n",
      "\u001b[32m[0716 18:35.02 @fs.py:171]\u001b[0m  \u001b[32mINF\u001b[0m  \u001b[97mSuccessfully downloaded crnn_vgg16_bn-9762b0b0.pt. 60.4MiB.\u001b[0m\n"
     ]
    },
    {
     "name": "stdout",
     "output_type": "stream",
     "text": [
      "Downloading https://doctr-static.mindee.com/models?id=v0.3.1/crnn_vgg16_bn-9762b0b0.pt&src=0 to /root/.cache/doctr/models/crnn_vgg16_bn-9762b0b0.pt\n"
     ]
    },
    {
     "data": {
      "application/vnd.jupyter.widget-view+json": {
       "model_id": "766879c337344c78876a57a5238bdbae",
       "version_major": 2,
       "version_minor": 0
      },
      "text/plain": [
       "  0%|          | 0/63286381 [00:00<?, ?it/s]"
      ]
     },
     "metadata": {},
     "output_type": "display_data"
    },
    {
     "name": "stderr",
     "output_type": "stream",
     "text": [
      "\u001b[32m[0716 18:35.17 @data.py:92]\u001b[0m  \u001b[32mINF\u001b[0m  \u001b[97mUsing downloaded & verified file: /root/.cache/doctr/models/crnn_vgg16_bn-9762b0b0.pt\u001b[0m\n",
      "\u001b[32m[0716 18:35.17 @order.py:805]\u001b[0m  \u001b[5m\u001b[35mWRN\u001b[0m  \u001b[97mIn most cases floating_text_block_categories must be a subset of text_block_categories. Adding categories to floating_text_block_categories, that do not belong to text_block_categories makes only sense for categories set have CHILD relationships with annotations that belong to text_block_categories.\u001b[0m\n"
     ]
    }
   ],
   "source": [
    "analyzer = dd.get_dd_analyzer()"
   ]
  },
  {
   "cell_type": "markdown",
   "metadata": {},
   "source": [
    "## Analyze methods\n",
    "\n",
    "Once all models have been loaded, we can process a directory with images (.png, .jpf) or multi page PDF-documents. You can either set `path='path/to/dir'` if you have a folder of images or `path='path/to/my/doc.pdf'` if you have a pdf document. \n",
    "\n",
    "You will receive an error if your path points to a single image. Processing images requires to pass the path to the base image directory."
   ]
  },
  {
   "cell_type": "code",
   "execution_count": 25,
   "metadata": {},
   "outputs": [],
   "source": [
    "path = Path.cwd() / \"/repo/notebooks/data/2024-nachhaltigkeitsbericht_tab.pdf\"\n",
    "\n",
    "df = analyzer.analyze(path=path)"
   ]
  },
  {
   "cell_type": "markdown",
   "metadata": {},
   "source": [
    "With\n",
    "\n",
    "```\n",
    "df = analyzer.analyze(path=path)\n",
    "````\n",
    "\n",
    "nothing has actually been processed yet.\n",
    "\n",
    "The method ```analyzer.analyze(path=path)``` does not (yet) return a JSON object, but rather a specialized subclass of the ```DataFlow``` class. Essentially, it behaves like a [generator](https://wiki.python.org/moin/Generators). \n",
    "\n",
    "Before starting the iteration, we must call:"
   ]
  },
  {
   "cell_type": "code",
   "execution_count": 26,
   "metadata": {},
   "outputs": [],
   "source": [
    "df.reset_state() "
   ]
  },
  {
   "cell_type": "markdown",
   "metadata": {},
   "source": [
    "Now you can traverse through all the values of the `Dataflow` simply by using a `for`-loop or the `next` function. Let's go!  "
   ]
  },
  {
   "cell_type": "code",
   "execution_count": 27,
   "metadata": {},
   "outputs": [
    {
     "name": "stderr",
     "output_type": "stream",
     "text": [
      "\u001b[32m[0716 18:43.16 @doctectionpipe.py:118]\u001b[0m  \u001b[32mINF\u001b[0m  \u001b[97mProcessing 2024-nachhaltigkeitsbericht_tab_0.pdf\u001b[0m\n",
      "\u001b[32m[0716 18:43.19 @context.py:154]\u001b[0m  \u001b[32mINF\u001b[0m  \u001b[97mImageLayoutService total: 3.1098 sec.\u001b[0m\n",
      "\u001b[32m[0716 18:43.19 @context.py:154]\u001b[0m  \u001b[32mINF\u001b[0m  \u001b[97mAnnotationNmsService total: 0.0007 sec.\u001b[0m\n",
      "\u001b[32m[0716 18:43.22 @context.py:154]\u001b[0m  \u001b[32mINF\u001b[0m  \u001b[97mSubImageLayoutService total: 3.5565 sec.\u001b[0m\n",
      "\u001b[32m[0716 18:43.25 @context.py:154]\u001b[0m  \u001b[32mINF\u001b[0m  \u001b[97mSubImageLayoutService total: 3.2428 sec.\u001b[0m\n",
      "\u001b[32m[0716 18:43.26 @context.py:154]\u001b[0m  \u001b[32mINF\u001b[0m  \u001b[97mTableSegmentationService total: 0.0309 sec.\u001b[0m\n",
      "\u001b[32m[0716 18:43.26 @context.py:154]\u001b[0m  \u001b[32mINF\u001b[0m  \u001b[97mImageLayoutService total: 0.2069 sec.\u001b[0m\n",
      "\u001b[32m[0716 18:43.26 @context.py:154]\u001b[0m  \u001b[32mINF\u001b[0m  \u001b[97mTextExtractionService total: 0.2654 sec.\u001b[0m\n",
      "\u001b[32m[0716 18:43.26 @context.py:154]\u001b[0m  \u001b[32mINF\u001b[0m  \u001b[97mMatchingService total: 0.004 sec.\u001b[0m\n",
      "\u001b[32m[0716 18:43.26 @context.py:154]\u001b[0m  \u001b[32mINF\u001b[0m  \u001b[97mTextOrderService total: 0.0451 sec.\u001b[0m\n"
     ]
    }
   ],
   "source": [
    "doc=iter(df)\n",
    "page = next(doc)"
   ]
  },
  {
   "cell_type": "markdown",
   "metadata": {},
   "source": [
    "## Page\n",
    "\n",
    "Let's see what we got back. For each iteration we receive a `Page` object. This object stores all informations that have been collected from a page document when running through the pipeline. "
   ]
  },
  {
   "cell_type": "code",
   "execution_count": 28,
   "metadata": {},
   "outputs": [
    {
     "data": {
      "text/plain": [
       "deepdoctection.datapoint.view.Page"
      ]
     },
     "execution_count": 28,
     "metadata": {},
     "output_type": "execute_result"
    }
   ],
   "source": [
    "type(page)"
   ]
  },
  {
   "cell_type": "markdown",
   "metadata": {},
   "source": [
    "Let's also have a look on some top level information. "
   ]
  },
  {
   "cell_type": "code",
   "execution_count": 29,
   "metadata": {},
   "outputs": [
    {
     "name": "stdout",
     "output_type": "stream",
     "text": [
      " height: 2481 \n",
      " width: 3508 \n",
      " file_name: 2024-nachhaltigkeitsbericht_tab_0.pdf \n",
      " document_id: d4edc7f4-5710-3c50-846b-03ff1108186c \n",
      " image_id: 9afd07e1-cd9a-3bbc-be3e-a8bf60fc5d42\n",
      "\n"
     ]
    }
   ],
   "source": [
    "print(f\" height: {page.height} \\n width: {page.width} \\n file_name: {page.file_name} \\n document_id: {page.document_id} \\n image_id: {page.image_id}\\n\")"
   ]
  },
  {
   "cell_type": "markdown",
   "metadata": {},
   "source": [
    "`document_id` and `image_id` are the same. The reason is because we only process a single image. The naming convention silently assumes that we deal with a one page document. Once we process multi page PDFs `document_id` and `image_id` differ.\n",
    "\n",
    "With `get_attribute_names()` you get a list of all attributes. "
   ]
  },
  {
   "cell_type": "code",
   "execution_count": 30,
   "metadata": {},
   "outputs": [
    {
     "data": {
      "text/plain": [
       "{'angle',\n",
       " 'b64_image',\n",
       " 'chunks',\n",
       " 'document_id',\n",
       " 'document_mapping',\n",
       " 'document_summary',\n",
       " 'document_type',\n",
       " 'figures',\n",
       " 'file_name',\n",
       " 'language',\n",
       " 'layouts',\n",
       " 'location',\n",
       " 'pad_bottom',\n",
       " 'pad_left',\n",
       " 'pad_right',\n",
       " 'pad_top',\n",
       " 'page_number',\n",
       " 'residual_layouts',\n",
       " 'size',\n",
       " 'tables',\n",
       " 'text',\n",
       " 'words'}"
      ]
     },
     "execution_count": 30,
     "metadata": {},
     "output_type": "execute_result"
    }
   ],
   "source": [
    "page.get_attribute_names()"
   ]
  },
  {
   "cell_type": "code",
   "execution_count": 31,
   "metadata": {},
   "outputs": [
    {
     "data": {
      "text/plain": [
       "(None, None)"
      ]
     },
     "execution_count": 31,
     "metadata": {},
     "output_type": "execute_result"
    }
   ],
   "source": [
    "page.document_type, page.language"
   ]
  },
  {
   "cell_type": "markdown",
   "metadata": {},
   "source": [
    "`page.document_type` and `page.language` both return None. The reason is that the analyzer has no component for predicting a document type or a language. If you want that, you need to build a custom pipeline. Check this [notebook](Using_LayoutLM_for_sequence_classification.ipynb) for further information.\n",
    "\n",
    "## Layout segments\n",
    "\n",
    "We can visualize detected layout segments. If you set `interactive=True` a viewer will pop up. Use `+` and `-` to zoom out/in. Use `q` to close the page.\n",
    "\n",
    "Alternatively, you can visualize the output with matplotlib."
   ]
  },
  {
   "cell_type": "code",
   "execution_count": 32,
   "metadata": {},
   "outputs": [
    {
     "data": {
      "text/plain": [
       "<matplotlib.image.AxesImage at 0x74c41c428790>"
      ]
     },
     "execution_count": 32,
     "metadata": {},
     "output_type": "execute_result"
    },
    {
     "data": {
      "image/png": "[encoded data removed]",
      "text/plain": [
       "<Figure size 2500x1700 with 1 Axes>"
      ]
     },
     "metadata": {},
     "output_type": "display_data"
    }
   ],
   "source": [
    "image = page.viz()\n",
    "plt.figure(figsize = (25,17))\n",
    "plt.axis('off')\n",
    "plt.imshow(image)"
   ]
  },
  {
   "cell_type": "markdown",
   "metadata": {},
   "source": [
    "![title](./pics/output_16_1.png)"
   ]
  },
  {
   "cell_type": "markdown",
   "metadata": {},
   "source": [
    "Let's have a look at other attributes. We can use the `text` property to get the content of the document. You will notice that the table is not included. You can therefore filter tables from the other content. In fact you can even filter on every layout segment."
   ]
  },
  {
   "cell_type": "code",
   "execution_count": 33,
   "metadata": {},
   "outputs": [
    {
     "name": "stdout",
     "output_type": "stream",
     "text": [
      "HENKEL NACHHALTIGKEITSBERICHT 2024\n",
      "( QB\n",
      "161\n",
      "VORWORT\n",
      "REFERENZ- UND\n",
      "BERICHTSRAHMEN\n",
      "ALLGEMEINE ANGABEN\n",
      "(ESRS2)\n",
      "KLIMAWANDEL (ESRS E1)\n",
      "UMWELTVERSCHMUTZUNG\n",
      "(ESRS E2)\n",
      "WASSER- UND MEERES-\n",
      "RESSOURCEN (ESRS E3)\n",
      "BIOLOGISCHE VIELFALTUND\n",
      "OKOSYSTEME (ESRS E4)\n",
      "RESSOURCENNUTZUNG\n",
      "UND KRESLAUPWIRISCHAFT\n",
      "(ESRS E5)\n",
      "ARBEITSKRAFTE DES UNTER-\n",
      "NEHMENS (ESRS S1)\n",
      "ARBEITSKRAFTE IN DERWERT-\n",
      "SCHOPFUNGSKETTE (ESRS S2)\n",
      "BETROFFENE GEMEINSCHAFTEN\n",
      "(ESRS S3)\n",
      "VERBRAUCHER:INNEN UND\n",
      "ENDNUTZERINNEN (ESRS S4)\n",
      "UNTERNEHMENSFOHRUNG\n",
      "(ESRS G1)\n",
      "WEITERE INFORMATIONEN\n",
      "THG-Brutoemisionen der Kategorien Scope 1,2und3 3s sowie THG-Gesamtemissionen (MDR-T_80d,80e, 80j, E1-4340,346.E1-6AR41AR4REHG,44EM632aS26,E1-6.51,E1-6.53)\n",
      "THG-Emissionen\n",
      "FORTSETZUNG DER TABELLE AUF DERN NACHSTENISEITE\n",
      "1Erworbene Rohstoffe\n"
     ]
    }
   ],
   "source": [
    "print(page.text)"
   ]
  },
  {
   "cell_type": "markdown",
   "metadata": {},
   "source": [
    "You can get the individual layout segments like `text`, `title`, `list` or `figure`. Layout segments also have various attributes. "
   ]
  },
  {
   "cell_type": "code",
   "execution_count": 34,
   "metadata": {},
   "outputs": [
    {
     "name": "stdout",
     "output_type": "stream",
     "text": [
      "--------------\n",
      "Layout segment: text, score: 0.9931397438049316, reading_order: 30, bounding_box: Bounding Box(absolute_coords: True,ulx: 943, uly: 418, lrx: 2470, lry: 507),\n",
      " annotation_id: dbe13b2c-c320-3d81-a410-3eac80065fa8 \n",
      " \n",
      "text: THG-Brutoemisionen der Kategorien Scope 1,2und3 3s sowie THG-Gesamtemissionen (MDR-T_80d,80e, 80j, E1-4340,346.E1-6AR41AR4REHG,44EM632aS26,E1-6.51,E1-6.53) \n",
      " \n",
      "\n",
      "--------------\n",
      "Layout segment: text, score: 0.2744598686695099, reading_order: 31, bounding_box: Bounding Box(absolute_coords: True,ulx: 946, uly: 555, lrx: 1239, lry: 605),\n",
      " annotation_id: 3b451ece-c9f9-3895-bc06-714c4c932182 \n",
      " \n",
      "text: THG-Emissionen \n",
      " \n",
      "\n",
      "--------------\n",
      "Layout segment: line, score: None, reading_order: 1, bounding_box: Bounding Box(absolute_coords: False,ulx: 0.04882812, uly: 0.0625, lrx: 0.30078125, lry: 0.078125),\n",
      " annotation_id: 28a629d5-fb5a-3170-92af-9dd11e17f6b6 \n",
      " \n",
      "text: HENKEL NACHHALTIGKEITSBERICHT 2024 \n",
      " \n",
      "\n",
      "--------------\n",
      "Layout segment: line, score: None, reading_order: 3, bounding_box: Bounding Box(absolute_coords: False,ulx: 0.92089844, uly: 0.06542969, lrx: 0.94140625, lry: 0.078125),\n",
      " annotation_id: 27b845dd-007b-35cf-861c-af6b4663f711 \n",
      " \n",
      "text: 161 \n",
      " \n",
      "\n",
      "--------------\n",
      "Layout segment: line, score: None, reading_order: 2, bounding_box: Bounding Box(absolute_coords: False,ulx: 0.04589844, uly: 0.12304688, lrx: 0.20507812, lry: 0.1484375),\n",
      " annotation_id: 24614d8f-d965-3281-baf6-83907e948a02 \n",
      " \n",
      "text: ( QB \n",
      " \n",
      "\n",
      "--------------\n",
      "Layout segment: line, score: None, reading_order: 4, bounding_box: Bounding Box(absolute_coords: False,ulx: 0.04785156, uly: 0.1796875, lrx: 0.1015625, lry: 0.19433594),\n",
      " annotation_id: 739efa4f-d31a-3e79-bb97-faee1a92789f \n",
      " \n",
      "text: VORWORT \n",
      " \n",
      "\n",
      "--------------\n",
      "Layout segment: line, score: None, reading_order: 5, bounding_box: Bounding Box(absolute_coords: False,ulx: 0.04882812, uly: 0.21777344, lrx: 0.12792969, lry: 0.23339844),\n",
      " annotation_id: 885bcd74-921b-367f-888e-dd752f19723b \n",
      " \n",
      "text: REFERENZ- UND \n",
      " \n",
      "\n",
      "--------------\n",
      "Layout segment: line, score: None, reading_order: 6, bounding_box: Bounding Box(absolute_coords: False,ulx: 0.04882812, uly: 0.234375, lrx: 0.140625, lry: 0.24902344),\n",
      " annotation_id: 7a54de41-8d8b-3faf-962d-cb7fa3c02a40 \n",
      " \n",
      "text: BERICHTSRAHMEN \n",
      " \n",
      "\n",
      "--------------\n",
      "Layout segment: line, score: None, reading_order: 7, bounding_box: Bounding Box(absolute_coords: False,ulx: 0.04882812, uly: 0.27246094, lrx: 0.16210938, lry: 0.28710938),\n",
      " annotation_id: 9d5a0b5e-a1ae-39cc-9afd-3e818b6c88d0 \n",
      " \n",
      "text: ALLGEMEINE ANGABEN \n",
      " \n",
      "\n",
      "--------------\n",
      "Layout segment: line, score: None, reading_order: 8, bounding_box: Bounding Box(absolute_coords: False,ulx: 0.04785156, uly: 0.28710938, lrx: 0.09277344, lry: 0.30566406),\n",
      " annotation_id: 4abae770-0a83-3b54-98a3-3a43dd810ae8 \n",
      " \n",
      "text: (ESRS2) \n",
      " \n",
      "\n",
      "--------------\n",
      "Layout segment: line, score: None, reading_order: 9, bounding_box: Bounding Box(absolute_coords: False,ulx: 0.04882812, uly: 0.32519531, lrx: 0.17285156, lry: 0.34472656),\n",
      " annotation_id: 3afd96f3-b93e-3ee9-ad70-522861a0639c \n",
      " \n",
      "text: KLIMAWANDEL (ESRS E1) \n",
      " \n",
      "\n",
      "--------------\n",
      "Layout segment: line, score: None, reading_order: 10, bounding_box: Bounding Box(absolute_coords: False,ulx: 0.04882812, uly: 0.36621094, lrx: 0.18066406, lry: 0.37988281),\n",
      " annotation_id: 90b179a8-52c1-3f77-98bb-32b1f893b7c1 \n",
      " \n",
      "text: UMWELTVERSCHMUTZUNG \n",
      " \n",
      "\n",
      "--------------\n",
      "Layout segment: line, score: None, reading_order: 11, bounding_box: Bounding Box(absolute_coords: False,ulx: 0.04785156, uly: 0.37988281, lrx: 0.09863281, lry: 0.3984375),\n",
      " annotation_id: d155362d-807f-32e8-8f35-762f8cdaaff1 \n",
      " \n",
      "text: (ESRS E2) \n",
      " \n",
      "\n",
      "--------------\n",
      "Layout segment: line, score: None, reading_order: 12, bounding_box: Bounding Box(absolute_coords: False,ulx: 0.04785156, uly: 0.41894531, lrx: 0.1640625, lry: 0.43457031),\n",
      " annotation_id: ef97702b-909b-3ce1-9b7d-fa176a45db2e \n",
      " \n",
      "text: WASSER- UND MEERES- \n",
      " \n",
      "\n",
      "--------------\n",
      "Layout segment: line, score: None, reading_order: 13, bounding_box: Bounding Box(absolute_coords: False,ulx: 0.04882812, uly: 0.43457031, lrx: 0.16503906, lry: 0.453125),\n",
      " annotation_id: a684dd89-2f67-327a-912f-d601a86edf45 \n",
      " \n",
      "text: RESSOURCEN (ESRS E3) \n",
      " \n",
      "\n",
      "--------------\n",
      "Layout segment: line, score: None, reading_order: 14, bounding_box: Bounding Box(absolute_coords: False,ulx: 0.04882812, uly: 0.47460938, lrx: 0.18847656, lry: 0.48925781),\n",
      " annotation_id: d497ea39-a0ed-3c57-a898-9ba206f525fa \n",
      " \n",
      "text: BIOLOGISCHE VIELFALTUND \n",
      " \n",
      "\n",
      "--------------\n",
      "Layout segment: line, score: None, reading_order: 15, bounding_box: Bounding Box(absolute_coords: False,ulx: 0.04882812, uly: 0.48925781, lrx: 0.16699219, lry: 0.5078125),\n",
      " annotation_id: 82c4a8b8-cedf-3e7c-ab4c-aff08ae85226 \n",
      " \n",
      "text: OKOSYSTEME (ESRS E4) \n",
      " \n",
      "\n",
      "--------------\n",
      "Layout segment: line, score: None, reading_order: 16, bounding_box: Bounding Box(absolute_coords: False,ulx: 0.04882812, uly: 0.52929688, lrx: 0.16308594, lry: 0.54296875),\n",
      " annotation_id: 1c0dd9f2-4b50-30f9-bd20-64059fd5d7dc \n",
      " \n",
      "text: RESSOURCENNUTZUNG \n",
      " \n",
      "\n",
      "--------------\n",
      "Layout segment: line, score: None, reading_order: 17, bounding_box: Bounding Box(absolute_coords: False,ulx: 0.04785156, uly: 0.54492188, lrx: 0.18847656, lry: 0.56054688),\n",
      " annotation_id: a361a5de-ebdf-326b-84a0-b7384202ee69 \n",
      " \n",
      "text: UND KRESLAUPWIRISCHAFT \n",
      " \n",
      "\n",
      "--------------\n",
      "Layout segment: line, score: None, reading_order: 18, bounding_box: Bounding Box(absolute_coords: False,ulx: 0.04785156, uly: 0.55957031, lrx: 0.09765625, lry: 0.57910156),\n",
      " annotation_id: dec24c28-5123-3748-a144-a96aac7b6921 \n",
      " \n",
      "text: (ESRS E5) \n",
      " \n",
      "\n",
      "--------------\n",
      "Layout segment: line, score: None, reading_order: 19, bounding_box: Bounding Box(absolute_coords: False,ulx: 0.04980469, uly: 0.59863281, lrx: 0.18554688, lry: 0.61523438),\n",
      " annotation_id: af7be853-27c4-3e79-9f6d-28d9d80160ff \n",
      " \n",
      "text: ARBEITSKRAFTE DES UNTER- \n",
      " \n",
      "\n",
      "--------------\n",
      "Layout segment: line, score: None, reading_order: 20, bounding_box: Bounding Box(absolute_coords: False,ulx: 0.04882812, uly: 0.61523438, lrx: 0.1484375, lry: 0.63378906),\n",
      " annotation_id: e5832a7a-d263-3949-bce4-3339cd83f24e \n",
      " \n",
      "text: NEHMENS (ESRS S1) \n",
      " \n",
      "\n",
      "--------------\n",
      "Layout segment: line, score: None, reading_order: 21, bounding_box: Bounding Box(absolute_coords: False,ulx: 0.04882812, uly: 0.65332031, lrx: 0.19433594, lry: 0.67089844),\n",
      " annotation_id: 967033a4-ff91-3ce8-be19-22c87bb1b351 \n",
      " \n",
      "text: ARBEITSKRAFTE IN DERWERT- \n",
      " \n",
      "\n",
      "--------------\n",
      "Layout segment: line, score: None, reading_order: 22, bounding_box: Bounding Box(absolute_coords: False,ulx: 0.04882812, uly: 0.66894531, lrx: 0.19726562, lry: 0.68847656),\n",
      " annotation_id: 2a09071c-8a3c-32fa-9cba-1d7563be5942 \n",
      " \n",
      "text: SCHOPFUNGSKETTE (ESRS S2) \n",
      " \n",
      "\n",
      "--------------\n",
      "Layout segment: line, score: None, reading_order: 33, bounding_box: Bounding Box(absolute_coords: False,ulx: 0.27832031, uly: 0.70117188, lrx: 0.36621094, lry: 0.71582031),\n",
      " annotation_id: 5d057a43-fff3-30c2-823b-6cbf7af549c5 \n",
      " \n",
      "text: 1Erworbene Rohstoffe \n",
      " \n",
      "\n",
      "--------------\n",
      "Layout segment: line, score: None, reading_order: 23, bounding_box: Bounding Box(absolute_coords: False,ulx: 0.04980469, uly: 0.70996094, lrx: 0.203125, lry: 0.72363281),\n",
      " annotation_id: b69a561f-d958-3eb7-8f78-ad846d697ebe \n",
      " \n",
      "text: BETROFFENE GEMEINSCHAFTEN \n",
      " \n",
      "\n",
      "--------------\n",
      "Layout segment: line, score: None, reading_order: 24, bounding_box: Bounding Box(absolute_coords: False,ulx: 0.04882812, uly: 0.72363281, lrx: 0.09863281, lry: 0.7421875),\n",
      " annotation_id: d91b3e7e-55fc-31d0-9348-74297a40aa0c \n",
      " \n",
      "text: (ESRS S3) \n",
      " \n",
      "\n",
      "--------------\n",
      "Layout segment: line, score: None, reading_order: 25, bounding_box: Bounding Box(absolute_coords: False,ulx: 0.04980469, uly: 0.76269531, lrx: 0.17871094, lry: 0.77832031),\n",
      " annotation_id: 49ebf86d-5c29-3933-baec-409097309a7d \n",
      " \n",
      "text: VERBRAUCHER:INNEN UND \n",
      " \n",
      "\n",
      "--------------\n",
      "Layout segment: line, score: None, reading_order: 26, bounding_box: Bounding Box(absolute_coords: False,ulx: 0.04882812, uly: 0.77832031, lrx: 0.19042969, lry: 0.796875),\n",
      " annotation_id: 582f4cc5-13cf-31df-a71a-2274b39ccb27 \n",
      " \n",
      "text: ENDNUTZERINNEN (ESRS S4) \n",
      " \n",
      "\n",
      "--------------\n",
      "Layout segment: line, score: None, reading_order: 27, bounding_box: Bounding Box(absolute_coords: False,ulx: 0.04980469, uly: 0.81835938, lrx: 0.17675781, lry: 0.83203125),\n",
      " annotation_id: dcea7fc7-9a15-3671-94e4-9a57e2a34f90 \n",
      " \n",
      "text: UNTERNEHMENSFOHRUNG \n",
      " \n",
      "\n",
      "--------------\n",
      "Layout segment: line, score: None, reading_order: 32, bounding_box: Bounding Box(absolute_coords: False,ulx: 0.26757812, uly: 0.81347656, lrx: 0.44726562, lry: 0.82617188),\n",
      " annotation_id: d1fa8303-4fe4-3b07-bd62-8cfa819c45fd \n",
      " \n",
      "text: FORTSETZUNG DER TABELLE AUF DERN NACHSTENISEITE \n",
      " \n",
      "\n",
      "--------------\n",
      "Layout segment: line, score: None, reading_order: 28, bounding_box: Bounding Box(absolute_coords: False,ulx: 0.04785156, uly: 0.83300781, lrx: 0.09863281, lry: 0.8515625),\n",
      " annotation_id: b0bc38c6-3812-366f-b4f5-7f60fd3ef43d \n",
      " \n",
      "text: (ESRS G1) \n",
      " \n",
      "\n",
      "--------------\n",
      "Layout segment: line, score: None, reading_order: 29, bounding_box: Bounding Box(absolute_coords: False,ulx: 0.04785156, uly: 0.87304688, lrx: 0.17675781, lry: 0.88769531),\n",
      " annotation_id: 677febc0-fd6d-33ac-9670-9e39bfb7b3f6 \n",
      " \n",
      "text: WEITERE INFORMATIONEN \n",
      " \n",
      "\n"
     ]
    }
   ],
   "source": [
    "for layout in page.layouts:\n",
    "    print(\"--------------\")\n",
    "    print(f\"Layout segment: {layout.category_name}, score: {layout.score}, reading_order: {layout.reading_order}, bounding_box: {layout.bounding_box},\\n annotation_id: {layout.annotation_id} \\n \\ntext: {layout.text} \\n \\n\")"
   ]
  },
  {
   "cell_type": "markdown",
   "metadata": {},
   "source": [
    "You can also get the layout segments from the `chunks` attribute. The output is a list of tuples with the most essential meta data for each layout segment, namely: `document_id, image_id, page_number, annotation_id, reading_order, category_name` and `text`."
   ]
  },
  {
   "cell_type": "code",
   "execution_count": 35,
   "metadata": {},
   "outputs": [
    {
     "data": {
      "text/plain": [
       "('d4edc7f4-5710-3c50-846b-03ff1108186c',\n",
       " '9afd07e1-cd9a-3bbc-be3e-a8bf60fc5d42',\n",
       " 0,\n",
       " '28a629d5-fb5a-3170-92af-9dd11e17f6b6',\n",
       " 1,\n",
       " <LayoutType.LINE>,\n",
       " 'HENKEL NACHHALTIGKEITSBERICHT 2024')"
      ]
     },
     "execution_count": 35,
     "metadata": {},
     "output_type": "execute_result"
    }
   ],
   "source": [
    "page.chunks[0]"
   ]
  },
  {
   "cell_type": "markdown",
   "metadata": {},
   "source": [
    "Tables cannot be retrieved from `page.layouts`. They have a special `page.tables` which is a python list of table objects. In our situation, only one table has been detected. "
   ]
  },
  {
   "cell_type": "code",
   "execution_count": 36,
   "metadata": {},
   "outputs": [
    {
     "data": {
      "text/plain": [
       "1"
      ]
     },
     "execution_count": 36,
     "metadata": {},
     "output_type": "execute_result"
    }
   ],
   "source": [
    "len(page.tables)"
   ]
  },
  {
   "cell_type": "markdown",
   "metadata": {},
   "source": [
    "Let's have a closer look at the table. "
   ]
  },
  {
   "cell_type": "code",
   "execution_count": 37,
   "metadata": {},
   "outputs": [
    {
     "data": {
      "text/plain": [
       "{'b64_image',\n",
       " 'bbox',\n",
       " 'cells',\n",
       " 'columns',\n",
       " 'csv',\n",
       " 'html',\n",
       " 'item',\n",
       " 'layout_link',\n",
       " 'max_col_span',\n",
       " 'max_row_span',\n",
       " 'np_image',\n",
       " 'number_of_columns',\n",
       " 'number_of_rows',\n",
       " 'reading_order',\n",
       " 'rows',\n",
       " 'text',\n",
       " 'words'}"
      ]
     },
     "execution_count": 37,
     "metadata": {},
     "output_type": "execute_result"
    }
   ],
   "source": [
    "table = page.tables[0]\n",
    "table.get_attribute_names()"
   ]
  },
  {
   "cell_type": "code",
   "execution_count": 38,
   "metadata": {},
   "outputs": [
    {
     "name": "stdout",
     "output_type": "stream",
     "text": [
      " number of rows: 19 \n",
      " number of columns: 10 \n",
      " reading order: None, \n",
      " score: 0.986181378364563\n"
     ]
    }
   ],
   "source": [
    "print(f\" number of rows: {table.number_of_rows} \\n number of columns: {table.number_of_columns} \\n reading order: {table.reading_order}, \\n score: {table.score}\")"
   ]
  },
  {
   "cell_type": "markdown",
   "metadata": {},
   "source": [
    "There is no reading order. The reason is that we have excluded tables from having a specific reading order position because we want to separate tables from the narrative text. Only layout segments with a `reading_order` not equal to `None`  will be added to the `page.text` string. \n",
    "\n",
    "This is pure customizing and we can change the customizing so that tables are part of the narrative text. We will come to this in another tutorial when talking about customization.\n",
    "\n",
    "You can get an html, csv or text version of the table.  "
   ]
  },
  {
   "cell_type": "code",
   "execution_count": 39,
   "metadata": {},
   "outputs": [
    {
     "name": "stderr",
     "output_type": "stream",
     "text": [
      "\u001b[32m[0716 18:44.13 @view.py:561]\u001b[0m  \u001b[5m\u001b[35mWRN\u001b[0m  \u001b[97mhtml construction not possible\u001b[0m\n",
      "\u001b[32m[0716 18:44.13 @view.py:561]\u001b[0m  \u001b[5m\u001b[35mWRN\u001b[0m  \u001b[97mhtml construction not possible\u001b[0m\n",
      "\u001b[32m[0716 18:44.13 @view.py:561]\u001b[0m  \u001b[5m\u001b[35mWRN\u001b[0m  \u001b[97mhtml construction not possible\u001b[0m\n",
      "\u001b[32m[0716 18:44.13 @view.py:561]\u001b[0m  \u001b[5m\u001b[35mWRN\u001b[0m  \u001b[97mhtml construction not possible\u001b[0m\n",
      "\u001b[32m[0716 18:44.13 @view.py:561]\u001b[0m  \u001b[5m\u001b[35mWRN\u001b[0m  \u001b[97mhtml construction not possible\u001b[0m\n",
      "\u001b[32m[0716 18:44.13 @view.py:561]\u001b[0m  \u001b[5m\u001b[35mWRN\u001b[0m  \u001b[97mhtml construction not possible\u001b[0m\n",
      "\u001b[32m[0716 18:44.13 @view.py:561]\u001b[0m  \u001b[5m\u001b[35mWRN\u001b[0m  \u001b[97mhtml construction not possible\u001b[0m\n",
      "\u001b[32m[0716 18:44.13 @view.py:561]\u001b[0m  \u001b[5m\u001b[35mWRN\u001b[0m  \u001b[97mhtml construction not possible\u001b[0m\n",
      "\u001b[32m[0716 18:44.13 @view.py:561]\u001b[0m  \u001b[5m\u001b[35mWRN\u001b[0m  \u001b[97mhtml construction not possible\u001b[0m\n",
      "\u001b[32m[0716 18:44.13 @view.py:561]\u001b[0m  \u001b[5m\u001b[35mWRN\u001b[0m  \u001b[97mhtml construction not possible\u001b[0m\n",
      "\u001b[32m[0716 18:44.13 @view.py:561]\u001b[0m  \u001b[5m\u001b[35mWRN\u001b[0m  \u001b[97mhtml construction not possible\u001b[0m\n",
      "\u001b[32m[0716 18:44.13 @view.py:561]\u001b[0m  \u001b[5m\u001b[35mWRN\u001b[0m  \u001b[97mhtml construction not possible\u001b[0m\n",
      "\u001b[32m[0716 18:44.13 @view.py:561]\u001b[0m  \u001b[5m\u001b[35mWRN\u001b[0m  \u001b[97mhtml construction not possible\u001b[0m\n",
      "\u001b[32m[0716 18:44.13 @view.py:561]\u001b[0m  \u001b[5m\u001b[35mWRN\u001b[0m  \u001b[97mhtml construction not possible\u001b[0m\n",
      "\u001b[32m[0716 18:44.13 @view.py:561]\u001b[0m  \u001b[5m\u001b[35mWRN\u001b[0m  \u001b[97mhtml construction not possible\u001b[0m\n",
      "\u001b[32m[0716 18:44.13 @view.py:561]\u001b[0m  \u001b[5m\u001b[35mWRN\u001b[0m  \u001b[97mhtml construction not possible\u001b[0m\n",
      "\u001b[32m[0716 18:44.13 @view.py:561]\u001b[0m  \u001b[5m\u001b[35mWRN\u001b[0m  \u001b[97mhtml construction not possible\u001b[0m\n",
      "\u001b[32m[0716 18:44.13 @view.py:561]\u001b[0m  \u001b[5m\u001b[35mWRN\u001b[0m  \u001b[97mhtml construction not possible\u001b[0m\n",
      "\u001b[32m[0716 18:44.13 @view.py:561]\u001b[0m  \u001b[5m\u001b[35mWRN\u001b[0m  \u001b[97mhtml construction not possible\u001b[0m\n",
      "\u001b[32m[0716 18:44.13 @view.py:561]\u001b[0m  \u001b[5m\u001b[35mWRN\u001b[0m  \u001b[97mhtml construction not possible\u001b[0m\n",
      "\u001b[32m[0716 18:44.13 @view.py:561]\u001b[0m  \u001b[5m\u001b[35mWRN\u001b[0m  \u001b[97mhtml construction not possible\u001b[0m\n",
      "\u001b[32m[0716 18:44.13 @view.py:561]\u001b[0m  \u001b[5m\u001b[35mWRN\u001b[0m  \u001b[97mhtml construction not possible\u001b[0m\n",
      "\u001b[32m[0716 18:44.13 @view.py:561]\u001b[0m  \u001b[5m\u001b[35mWRN\u001b[0m  \u001b[97mhtml construction not possible\u001b[0m\n",
      "\u001b[32m[0716 18:44.13 @view.py:561]\u001b[0m  \u001b[5m\u001b[35mWRN\u001b[0m  \u001b[97mhtml construction not possible\u001b[0m\n",
      "\u001b[32m[0716 18:44.13 @view.py:561]\u001b[0m  \u001b[5m\u001b[35mWRN\u001b[0m  \u001b[97mhtml construction not possible\u001b[0m\n",
      "\u001b[32m[0716 18:44.13 @view.py:561]\u001b[0m  \u001b[5m\u001b[35mWRN\u001b[0m  \u001b[97mhtml construction not possible\u001b[0m\n",
      "\u001b[32m[0716 18:44.13 @view.py:561]\u001b[0m  \u001b[5m\u001b[35mWRN\u001b[0m  \u001b[97mhtml construction not possible\u001b[0m\n",
      "\u001b[32m[0716 18:44.13 @view.py:561]\u001b[0m  \u001b[5m\u001b[35mWRN\u001b[0m  \u001b[97mhtml construction not possible\u001b[0m\n",
      "\u001b[32m[0716 18:44.13 @view.py:561]\u001b[0m  \u001b[5m\u001b[35mWRN\u001b[0m  \u001b[97mhtml construction not possible\u001b[0m\n",
      "\u001b[32m[0716 18:44.13 @view.py:561]\u001b[0m  \u001b[5m\u001b[35mWRN\u001b[0m  \u001b[97mhtml construction not possible\u001b[0m\n",
      "\u001b[32m[0716 18:44.13 @view.py:561]\u001b[0m  \u001b[5m\u001b[35mWRN\u001b[0m  \u001b[97mhtml construction not possible\u001b[0m\n",
      "\u001b[32m[0716 18:44.13 @view.py:561]\u001b[0m  \u001b[5m\u001b[35mWRN\u001b[0m  \u001b[97mhtml construction not possible\u001b[0m\n",
      "\u001b[32m[0716 18:44.13 @view.py:561]\u001b[0m  \u001b[5m\u001b[35mWRN\u001b[0m  \u001b[97mhtml construction not possible\u001b[0m\n",
      "\u001b[32m[0716 18:44.13 @view.py:561]\u001b[0m  \u001b[5m\u001b[35mWRN\u001b[0m  \u001b[97mhtml construction not possible\u001b[0m\n",
      "\u001b[32m[0716 18:44.13 @view.py:561]\u001b[0m  \u001b[5m\u001b[35mWRN\u001b[0m  \u001b[97mhtml construction not possible\u001b[0m\n",
      "\u001b[32m[0716 18:44.13 @view.py:561]\u001b[0m  \u001b[5m\u001b[35mWRN\u001b[0m  \u001b[97mhtml construction not possible\u001b[0m\n",
      "\u001b[32m[0716 18:44.13 @view.py:561]\u001b[0m  \u001b[5m\u001b[35mWRN\u001b[0m  \u001b[97mhtml construction not possible\u001b[0m\n",
      "\u001b[32m[0716 18:44.13 @view.py:561]\u001b[0m  \u001b[5m\u001b[35mWRN\u001b[0m  \u001b[97mhtml construction not possible\u001b[0m\n",
      "\u001b[32m[0716 18:44.13 @view.py:561]\u001b[0m  \u001b[5m\u001b[35mWRN\u001b[0m  \u001b[97mhtml construction not possible\u001b[0m\n",
      "\u001b[32m[0716 18:44.13 @view.py:561]\u001b[0m  \u001b[5m\u001b[35mWRN\u001b[0m  \u001b[97mhtml construction not possible\u001b[0m\n",
      "\u001b[32m[0716 18:44.13 @view.py:561]\u001b[0m  \u001b[5m\u001b[35mWRN\u001b[0m  \u001b[97mhtml construction not possible\u001b[0m\n",
      "\u001b[32m[0716 18:44.13 @view.py:561]\u001b[0m  \u001b[5m\u001b[35mWRN\u001b[0m  \u001b[97mhtml construction not possible\u001b[0m\n",
      "\u001b[32m[0716 18:44.13 @view.py:561]\u001b[0m  \u001b[5m\u001b[35mWRN\u001b[0m  \u001b[97mhtml construction not possible\u001b[0m\n",
      "\u001b[32m[0716 18:44.13 @view.py:561]\u001b[0m  \u001b[5m\u001b[35mWRN\u001b[0m  \u001b[97mhtml construction not possible\u001b[0m\n",
      "\u001b[32m[0716 18:44.13 @view.py:561]\u001b[0m  \u001b[5m\u001b[35mWRN\u001b[0m  \u001b[97mhtml construction not possible\u001b[0m\n",
      "\u001b[32m[0716 18:44.13 @view.py:561]\u001b[0m  \u001b[5m\u001b[35mWRN\u001b[0m  \u001b[97mhtml construction not possible\u001b[0m\n",
      "\u001b[32m[0716 18:44.13 @view.py:561]\u001b[0m  \u001b[5m\u001b[35mWRN\u001b[0m  \u001b[97mhtml construction not possible\u001b[0m\n",
      "\u001b[32m[0716 18:44.13 @view.py:561]\u001b[0m  \u001b[5m\u001b[35mWRN\u001b[0m  \u001b[97mhtml construction not possible\u001b[0m\n",
      "\u001b[32m[0716 18:44.13 @view.py:561]\u001b[0m  \u001b[5m\u001b[35mWRN\u001b[0m  \u001b[97mhtml construction not possible\u001b[0m\n",
      "\u001b[32m[0716 18:44.13 @view.py:561]\u001b[0m  \u001b[5m\u001b[35mWRN\u001b[0m  \u001b[97mhtml construction not possible\u001b[0m\n",
      "\u001b[32m[0716 18:44.13 @view.py:561]\u001b[0m  \u001b[5m\u001b[35mWRN\u001b[0m  \u001b[97mhtml construction not possible\u001b[0m\n",
      "\u001b[32m[0716 18:44.13 @view.py:561]\u001b[0m  \u001b[5m\u001b[35mWRN\u001b[0m  \u001b[97mhtml construction not possible\u001b[0m\n",
      "\u001b[32m[0716 18:44.13 @view.py:561]\u001b[0m  \u001b[5m\u001b[35mWRN\u001b[0m  \u001b[97mhtml construction not possible\u001b[0m\n",
      "\u001b[32m[0716 18:44.13 @view.py:561]\u001b[0m  \u001b[5m\u001b[35mWRN\u001b[0m  \u001b[97mhtml construction not possible\u001b[0m\n",
      "\u001b[32m[0716 18:44.13 @view.py:561]\u001b[0m  \u001b[5m\u001b[35mWRN\u001b[0m  \u001b[97mhtml construction not possible\u001b[0m\n",
      "\u001b[32m[0716 18:44.13 @view.py:561]\u001b[0m  \u001b[5m\u001b[35mWRN\u001b[0m  \u001b[97mhtml construction not possible\u001b[0m\n",
      "\u001b[32m[0716 18:44.13 @view.py:561]\u001b[0m  \u001b[5m\u001b[35mWRN\u001b[0m  \u001b[97mhtml construction not possible\u001b[0m\n",
      "\u001b[32m[0716 18:44.13 @view.py:561]\u001b[0m  \u001b[5m\u001b[35mWRN\u001b[0m  \u001b[97mhtml construction not possible\u001b[0m\n",
      "\u001b[32m[0716 18:44.13 @view.py:561]\u001b[0m  \u001b[5m\u001b[35mWRN\u001b[0m  \u001b[97mhtml construction not possible\u001b[0m\n",
      "\u001b[32m[0716 18:44.13 @view.py:561]\u001b[0m  \u001b[5m\u001b[35mWRN\u001b[0m  \u001b[97mhtml construction not possible\u001b[0m\n",
      "\u001b[32m[0716 18:44.13 @view.py:561]\u001b[0m  \u001b[5m\u001b[35mWRN\u001b[0m  \u001b[97mhtml construction not possible\u001b[0m\n",
      "\u001b[32m[0716 18:44.13 @view.py:561]\u001b[0m  \u001b[5m\u001b[35mWRN\u001b[0m  \u001b[97mhtml construction not possible\u001b[0m\n",
      "\u001b[32m[0716 18:44.13 @view.py:561]\u001b[0m  \u001b[5m\u001b[35mWRN\u001b[0m  \u001b[97mhtml construction not possible\u001b[0m\n",
      "\u001b[32m[0716 18:44.13 @view.py:561]\u001b[0m  \u001b[5m\u001b[35mWRN\u001b[0m  \u001b[97mhtml construction not possible\u001b[0m\n",
      "\u001b[32m[0716 18:44.13 @view.py:561]\u001b[0m  \u001b[5m\u001b[35mWRN\u001b[0m  \u001b[97mhtml construction not possible\u001b[0m\n",
      "\u001b[32m[0716 18:44.13 @view.py:561]\u001b[0m  \u001b[5m\u001b[35mWRN\u001b[0m  \u001b[97mhtml construction not possible\u001b[0m\n",
      "\u001b[32m[0716 18:44.13 @view.py:561]\u001b[0m  \u001b[5m\u001b[35mWRN\u001b[0m  \u001b[97mhtml construction not possible\u001b[0m\n",
      "\u001b[32m[0716 18:44.13 @view.py:561]\u001b[0m  \u001b[5m\u001b[35mWRN\u001b[0m  \u001b[97mhtml construction not possible\u001b[0m\n",
      "\u001b[32m[0716 18:44.13 @view.py:561]\u001b[0m  \u001b[5m\u001b[35mWRN\u001b[0m  \u001b[97mhtml construction not possible\u001b[0m\n",
      "\u001b[32m[0716 18:44.13 @view.py:561]\u001b[0m  \u001b[5m\u001b[35mWRN\u001b[0m  \u001b[97mhtml construction not possible\u001b[0m\n",
      "\u001b[32m[0716 18:44.13 @view.py:561]\u001b[0m  \u001b[5m\u001b[35mWRN\u001b[0m  \u001b[97mhtml construction not possible\u001b[0m\n",
      "\u001b[32m[0716 18:44.13 @view.py:561]\u001b[0m  \u001b[5m\u001b[35mWRN\u001b[0m  \u001b[97mhtml construction not possible\u001b[0m\n",
      "\u001b[32m[0716 18:44.13 @view.py:561]\u001b[0m  \u001b[5m\u001b[35mWRN\u001b[0m  \u001b[97mhtml construction not possible\u001b[0m\n",
      "\u001b[32m[0716 18:44.13 @view.py:561]\u001b[0m  \u001b[5m\u001b[35mWRN\u001b[0m  \u001b[97mhtml construction not possible\u001b[0m\n",
      "\u001b[32m[0716 18:44.13 @view.py:561]\u001b[0m  \u001b[5m\u001b[35mWRN\u001b[0m  \u001b[97mhtml construction not possible\u001b[0m\n",
      "\u001b[32m[0716 18:44.13 @view.py:561]\u001b[0m  \u001b[5m\u001b[35mWRN\u001b[0m  \u001b[97mhtml construction not possible\u001b[0m\n",
      "\u001b[32m[0716 18:44.13 @view.py:561]\u001b[0m  \u001b[5m\u001b[35mWRN\u001b[0m  \u001b[97mhtml construction not possible\u001b[0m\n",
      "\u001b[32m[0716 18:44.13 @view.py:561]\u001b[0m  \u001b[5m\u001b[35mWRN\u001b[0m  \u001b[97mhtml construction not possible\u001b[0m\n",
      "\u001b[32m[0716 18:44.13 @view.py:561]\u001b[0m  \u001b[5m\u001b[35mWRN\u001b[0m  \u001b[97mhtml construction not possible\u001b[0m\n",
      "\u001b[32m[0716 18:44.13 @view.py:561]\u001b[0m  \u001b[5m\u001b[35mWRN\u001b[0m  \u001b[97mhtml construction not possible\u001b[0m\n",
      "\u001b[32m[0716 18:44.13 @view.py:561]\u001b[0m  \u001b[5m\u001b[35mWRN\u001b[0m  \u001b[97mhtml construction not possible\u001b[0m\n",
      "\u001b[32m[0716 18:44.13 @view.py:561]\u001b[0m  \u001b[5m\u001b[35mWRN\u001b[0m  \u001b[97mhtml construction not possible\u001b[0m\n",
      "\u001b[32m[0716 18:44.13 @view.py:561]\u001b[0m  \u001b[5m\u001b[35mWRN\u001b[0m  \u001b[97mhtml construction not possible\u001b[0m\n",
      "\u001b[32m[0716 18:44.13 @view.py:561]\u001b[0m  \u001b[5m\u001b[35mWRN\u001b[0m  \u001b[97mhtml construction not possible\u001b[0m\n",
      "\u001b[32m[0716 18:44.13 @view.py:561]\u001b[0m  \u001b[5m\u001b[35mWRN\u001b[0m  \u001b[97mhtml construction not possible\u001b[0m\n",
      "\u001b[32m[0716 18:44.13 @view.py:561]\u001b[0m  \u001b[5m\u001b[35mWRN\u001b[0m  \u001b[97mhtml construction not possible\u001b[0m\n",
      "\u001b[32m[0716 18:44.13 @view.py:561]\u001b[0m  \u001b[5m\u001b[35mWRN\u001b[0m  \u001b[97mhtml construction not possible\u001b[0m\n",
      "\u001b[32m[0716 18:44.13 @view.py:561]\u001b[0m  \u001b[5m\u001b[35mWRN\u001b[0m  \u001b[97mhtml construction not possible\u001b[0m\n",
      "\u001b[32m[0716 18:44.13 @view.py:561]\u001b[0m  \u001b[5m\u001b[35mWRN\u001b[0m  \u001b[97mhtml construction not possible\u001b[0m\n",
      "\u001b[32m[0716 18:44.13 @view.py:561]\u001b[0m  \u001b[5m\u001b[35mWRN\u001b[0m  \u001b[97mhtml construction not possible\u001b[0m\n",
      "\u001b[32m[0716 18:44.13 @view.py:561]\u001b[0m  \u001b[5m\u001b[35mWRN\u001b[0m  \u001b[97mhtml construction not possible\u001b[0m\n",
      "\u001b[32m[0716 18:44.13 @view.py:561]\u001b[0m  \u001b[5m\u001b[35mWRN\u001b[0m  \u001b[97mhtml construction not possible\u001b[0m\n",
      "\u001b[32m[0716 18:44.13 @view.py:561]\u001b[0m  \u001b[5m\u001b[35mWRN\u001b[0m  \u001b[97mhtml construction not possible\u001b[0m\n",
      "\u001b[32m[0716 18:44.13 @view.py:561]\u001b[0m  \u001b[5m\u001b[35mWRN\u001b[0m  \u001b[97mhtml construction not possible\u001b[0m\n",
      "\u001b[32m[0716 18:44.13 @view.py:561]\u001b[0m  \u001b[5m\u001b[35mWRN\u001b[0m  \u001b[97mhtml construction not possible\u001b[0m\n",
      "\u001b[32m[0716 18:44.13 @view.py:561]\u001b[0m  \u001b[5m\u001b[35mWRN\u001b[0m  \u001b[97mhtml construction not possible\u001b[0m\n",
      "\u001b[32m[0716 18:44.13 @view.py:561]\u001b[0m  \u001b[5m\u001b[35mWRN\u001b[0m  \u001b[97mhtml construction not possible\u001b[0m\n",
      "\u001b[32m[0716 18:44.13 @view.py:561]\u001b[0m  \u001b[5m\u001b[35mWRN\u001b[0m  \u001b[97mhtml construction not possible\u001b[0m\n",
      "\u001b[32m[0716 18:44.13 @view.py:561]\u001b[0m  \u001b[5m\u001b[35mWRN\u001b[0m  \u001b[97mhtml construction not possible\u001b[0m\n",
      "\u001b[32m[0716 18:44.13 @view.py:561]\u001b[0m  \u001b[5m\u001b[35mWRN\u001b[0m  \u001b[97mhtml construction not possible\u001b[0m\n",
      "\u001b[32m[0716 18:44.13 @view.py:561]\u001b[0m  \u001b[5m\u001b[35mWRN\u001b[0m  \u001b[97mhtml construction not possible\u001b[0m\n",
      "\u001b[32m[0716 18:44.13 @view.py:561]\u001b[0m  \u001b[5m\u001b[35mWRN\u001b[0m  \u001b[97mhtml construction not possible\u001b[0m\n",
      "\u001b[32m[0716 18:44.13 @view.py:561]\u001b[0m  \u001b[5m\u001b[35mWRN\u001b[0m  \u001b[97mhtml construction not possible\u001b[0m\n",
      "\u001b[32m[0716 18:44.13 @view.py:561]\u001b[0m  \u001b[5m\u001b[35mWRN\u001b[0m  \u001b[97mhtml construction not possible\u001b[0m\n",
      "\u001b[32m[0716 18:44.13 @view.py:561]\u001b[0m  \u001b[5m\u001b[35mWRN\u001b[0m  \u001b[97mhtml construction not possible\u001b[0m\n",
      "\u001b[32m[0716 18:44.13 @view.py:561]\u001b[0m  \u001b[5m\u001b[35mWRN\u001b[0m  \u001b[97mhtml construction not possible\u001b[0m\n",
      "\u001b[32m[0716 18:44.13 @view.py:561]\u001b[0m  \u001b[5m\u001b[35mWRN\u001b[0m  \u001b[97mhtml construction not possible\u001b[0m\n",
      "\u001b[32m[0716 18:44.13 @view.py:561]\u001b[0m  \u001b[5m\u001b[35mWRN\u001b[0m  \u001b[97mhtml construction not possible\u001b[0m\n",
      "\u001b[32m[0716 18:44.13 @view.py:561]\u001b[0m  \u001b[5m\u001b[35mWRN\u001b[0m  \u001b[97mhtml construction not possible\u001b[0m\n",
      "\u001b[32m[0716 18:44.13 @view.py:561]\u001b[0m  \u001b[5m\u001b[35mWRN\u001b[0m  \u001b[97mhtml construction not possible\u001b[0m\n",
      "\u001b[32m[0716 18:44.13 @view.py:561]\u001b[0m  \u001b[5m\u001b[35mWRN\u001b[0m  \u001b[97mhtml construction not possible\u001b[0m\n",
      "\u001b[32m[0716 18:44.13 @view.py:561]\u001b[0m  \u001b[5m\u001b[35mWRN\u001b[0m  \u001b[97mhtml construction not possible\u001b[0m\n",
      "\u001b[32m[0716 18:44.13 @view.py:561]\u001b[0m  \u001b[5m\u001b[35mWRN\u001b[0m  \u001b[97mhtml construction not possible\u001b[0m\n",
      "\u001b[32m[0716 18:44.13 @view.py:561]\u001b[0m  \u001b[5m\u001b[35mWRN\u001b[0m  \u001b[97mhtml construction not possible\u001b[0m\n",
      "\u001b[32m[0716 18:44.13 @view.py:561]\u001b[0m  \u001b[5m\u001b[35mWRN\u001b[0m  \u001b[97mhtml construction not possible\u001b[0m\n",
      "\u001b[32m[0716 18:44.13 @view.py:561]\u001b[0m  \u001b[5m\u001b[35mWRN\u001b[0m  \u001b[97mhtml construction not possible\u001b[0m\n",
      "\u001b[32m[0716 18:44.13 @view.py:561]\u001b[0m  \u001b[5m\u001b[35mWRN\u001b[0m  \u001b[97mhtml construction not possible\u001b[0m\n",
      "\u001b[32m[0716 18:44.13 @view.py:561]\u001b[0m  \u001b[5m\u001b[35mWRN\u001b[0m  \u001b[97mhtml construction not possible\u001b[0m\n",
      "\u001b[32m[0716 18:44.13 @view.py:561]\u001b[0m  \u001b[5m\u001b[35mWRN\u001b[0m  \u001b[97mhtml construction not possible\u001b[0m\n",
      "\u001b[32m[0716 18:44.13 @view.py:561]\u001b[0m  \u001b[5m\u001b[35mWRN\u001b[0m  \u001b[97mhtml construction not possible\u001b[0m\n",
      "\u001b[32m[0716 18:44.13 @view.py:561]\u001b[0m  \u001b[5m\u001b[35mWRN\u001b[0m  \u001b[97mhtml construction not possible\u001b[0m\n",
      "\u001b[32m[0716 18:44.13 @view.py:561]\u001b[0m  \u001b[5m\u001b[35mWRN\u001b[0m  \u001b[97mhtml construction not possible\u001b[0m\n",
      "\u001b[32m[0716 18:44.13 @view.py:561]\u001b[0m  \u001b[5m\u001b[35mWRN\u001b[0m  \u001b[97mhtml construction not possible\u001b[0m\n",
      "\u001b[32m[0716 18:44.13 @view.py:561]\u001b[0m  \u001b[5m\u001b[35mWRN\u001b[0m  \u001b[97mhtml construction not possible\u001b[0m\n",
      "\u001b[32m[0716 18:44.13 @view.py:561]\u001b[0m  \u001b[5m\u001b[35mWRN\u001b[0m  \u001b[97mhtml construction not possible\u001b[0m\n",
      "\u001b[32m[0716 18:44.13 @view.py:561]\u001b[0m  \u001b[5m\u001b[35mWRN\u001b[0m  \u001b[97mhtml construction not possible\u001b[0m\n",
      "\u001b[32m[0716 18:44.13 @view.py:561]\u001b[0m  \u001b[5m\u001b[35mWRN\u001b[0m  \u001b[97mhtml construction not possible\u001b[0m\n",
      "\u001b[32m[0716 18:44.13 @view.py:561]\u001b[0m  \u001b[5m\u001b[35mWRN\u001b[0m  \u001b[97mhtml construction not possible\u001b[0m\n",
      "\u001b[32m[0716 18:44.13 @view.py:561]\u001b[0m  \u001b[5m\u001b[35mWRN\u001b[0m  \u001b[97mhtml construction not possible\u001b[0m\n",
      "\u001b[32m[0716 18:44.13 @view.py:561]\u001b[0m  \u001b[5m\u001b[35mWRN\u001b[0m  \u001b[97mhtml construction not possible\u001b[0m\n",
      "\u001b[32m[0716 18:44.13 @view.py:561]\u001b[0m  \u001b[5m\u001b[35mWRN\u001b[0m  \u001b[97mhtml construction not possible\u001b[0m\n",
      "\u001b[32m[0716 18:44.13 @view.py:561]\u001b[0m  \u001b[5m\u001b[35mWRN\u001b[0m  \u001b[97mhtml construction not possible\u001b[0m\n",
      "\u001b[32m[0716 18:44.13 @view.py:561]\u001b[0m  \u001b[5m\u001b[35mWRN\u001b[0m  \u001b[97mhtml construction not possible\u001b[0m\n",
      "\u001b[32m[0716 18:44.13 @view.py:561]\u001b[0m  \u001b[5m\u001b[35mWRN\u001b[0m  \u001b[97mhtml construction not possible\u001b[0m\n",
      "\u001b[32m[0716 18:44.13 @view.py:561]\u001b[0m  \u001b[5m\u001b[35mWRN\u001b[0m  \u001b[97mhtml construction not possible\u001b[0m\n",
      "\u001b[32m[0716 18:44.13 @view.py:561]\u001b[0m  \u001b[5m\u001b[35mWRN\u001b[0m  \u001b[97mhtml construction not possible\u001b[0m\n",
      "\u001b[32m[0716 18:44.13 @view.py:561]\u001b[0m  \u001b[5m\u001b[35mWRN\u001b[0m  \u001b[97mhtml construction not possible\u001b[0m\n",
      "\u001b[32m[0716 18:44.13 @view.py:561]\u001b[0m  \u001b[5m\u001b[35mWRN\u001b[0m  \u001b[97mhtml construction not possible\u001b[0m\n",
      "\u001b[32m[0716 18:44.13 @view.py:561]\u001b[0m  \u001b[5m\u001b[35mWRN\u001b[0m  \u001b[97mhtml construction not possible\u001b[0m\n",
      "\u001b[32m[0716 18:44.13 @view.py:561]\u001b[0m  \u001b[5m\u001b[35mWRN\u001b[0m  \u001b[97mhtml construction not possible\u001b[0m\n",
      "\u001b[32m[0716 18:44.13 @view.py:561]\u001b[0m  \u001b[5m\u001b[35mWRN\u001b[0m  \u001b[97mhtml construction not possible\u001b[0m\n",
      "\u001b[32m[0716 18:44.13 @view.py:561]\u001b[0m  \u001b[5m\u001b[35mWRN\u001b[0m  \u001b[97mhtml construction not possible\u001b[0m\n",
      "\u001b[32m[0716 18:44.13 @view.py:561]\u001b[0m  \u001b[5m\u001b[35mWRN\u001b[0m  \u001b[97mhtml construction not possible\u001b[0m\n",
      "\u001b[32m[0716 18:44.13 @view.py:561]\u001b[0m  \u001b[5m\u001b[35mWRN\u001b[0m  \u001b[97mhtml construction not possible\u001b[0m\n",
      "\u001b[32m[0716 18:44.13 @view.py:561]\u001b[0m  \u001b[5m\u001b[35mWRN\u001b[0m  \u001b[97mhtml construction not possible\u001b[0m\n",
      "\u001b[32m[0716 18:44.13 @view.py:561]\u001b[0m  \u001b[5m\u001b[35mWRN\u001b[0m  \u001b[97mhtml construction not possible\u001b[0m\n",
      "\u001b[32m[0716 18:44.13 @view.py:561]\u001b[0m  \u001b[5m\u001b[35mWRN\u001b[0m  \u001b[97mhtml construction not possible\u001b[0m\n",
      "\u001b[32m[0716 18:44.13 @view.py:561]\u001b[0m  \u001b[5m\u001b[35mWRN\u001b[0m  \u001b[97mhtml construction not possible\u001b[0m\n",
      "\u001b[32m[0716 18:44.13 @view.py:561]\u001b[0m  \u001b[5m\u001b[35mWRN\u001b[0m  \u001b[97mhtml construction not possible\u001b[0m\n",
      "\u001b[32m[0716 18:44.13 @view.py:561]\u001b[0m  \u001b[5m\u001b[35mWRN\u001b[0m  \u001b[97mhtml construction not possible\u001b[0m\n",
      "\u001b[32m[0716 18:44.13 @view.py:561]\u001b[0m  \u001b[5m\u001b[35mWRN\u001b[0m  \u001b[97mhtml construction not possible\u001b[0m\n",
      "\u001b[32m[0716 18:44.13 @view.py:561]\u001b[0m  \u001b[5m\u001b[35mWRN\u001b[0m  \u001b[97mhtml construction not possible\u001b[0m\n",
      "\u001b[32m[0716 18:44.13 @view.py:561]\u001b[0m  \u001b[5m\u001b[35mWRN\u001b[0m  \u001b[97mhtml construction not possible\u001b[0m\n",
      "\u001b[32m[0716 18:44.13 @view.py:561]\u001b[0m  \u001b[5m\u001b[35mWRN\u001b[0m  \u001b[97mhtml construction not possible\u001b[0m\n",
      "\u001b[32m[0716 18:44.13 @view.py:561]\u001b[0m  \u001b[5m\u001b[35mWRN\u001b[0m  \u001b[97mhtml construction not possible\u001b[0m\n",
      "\u001b[32m[0716 18:44.13 @view.py:561]\u001b[0m  \u001b[5m\u001b[35mWRN\u001b[0m  \u001b[97mhtml construction not possible\u001b[0m\n",
      "\u001b[32m[0716 18:44.13 @view.py:561]\u001b[0m  \u001b[5m\u001b[35mWRN\u001b[0m  \u001b[97mhtml construction not possible\u001b[0m\n",
      "\u001b[32m[0716 18:44.13 @view.py:561]\u001b[0m  \u001b[5m\u001b[35mWRN\u001b[0m  \u001b[97mhtml construction not possible\u001b[0m\n",
      "\u001b[32m[0716 18:44.13 @view.py:561]\u001b[0m  \u001b[5m\u001b[35mWRN\u001b[0m  \u001b[97mhtml construction not possible\u001b[0m\n",
      "\u001b[32m[0716 18:44.13 @view.py:561]\u001b[0m  \u001b[5m\u001b[35mWRN\u001b[0m  \u001b[97mhtml construction not possible\u001b[0m\n",
      "\u001b[32m[0716 18:44.13 @view.py:561]\u001b[0m  \u001b[5m\u001b[35mWRN\u001b[0m  \u001b[97mhtml construction not possible\u001b[0m\n",
      "\u001b[32m[0716 18:44.13 @view.py:561]\u001b[0m  \u001b[5m\u001b[35mWRN\u001b[0m  \u001b[97mhtml construction not possible\u001b[0m\n",
      "\u001b[32m[0716 18:44.13 @view.py:561]\u001b[0m  \u001b[5m\u001b[35mWRN\u001b[0m  \u001b[97mhtml construction not possible\u001b[0m\n",
      "\u001b[32m[0716 18:44.13 @view.py:561]\u001b[0m  \u001b[5m\u001b[35mWRN\u001b[0m  \u001b[97mhtml construction not possible\u001b[0m\n",
      "\u001b[32m[0716 18:44.13 @view.py:561]\u001b[0m  \u001b[5m\u001b[35mWRN\u001b[0m  \u001b[97mhtml construction not possible\u001b[0m\n",
      "\u001b[32m[0716 18:44.13 @view.py:561]\u001b[0m  \u001b[5m\u001b[35mWRN\u001b[0m  \u001b[97mhtml construction not possible\u001b[0m\n",
      "\u001b[32m[0716 18:44.13 @view.py:561]\u001b[0m  \u001b[5m\u001b[35mWRN\u001b[0m  \u001b[97mhtml construction not possible\u001b[0m\n",
      "\u001b[32m[0716 18:44.13 @view.py:561]\u001b[0m  \u001b[5m\u001b[35mWRN\u001b[0m  \u001b[97mhtml construction not possible\u001b[0m\n",
      "\u001b[32m[0716 18:44.13 @view.py:561]\u001b[0m  \u001b[5m\u001b[35mWRN\u001b[0m  \u001b[97mhtml construction not possible\u001b[0m\n",
      "\u001b[32m[0716 18:44.13 @view.py:561]\u001b[0m  \u001b[5m\u001b[35mWRN\u001b[0m  \u001b[97mhtml construction not possible\u001b[0m\n",
      "\u001b[32m[0716 18:44.13 @view.py:561]\u001b[0m  \u001b[5m\u001b[35mWRN\u001b[0m  \u001b[97mhtml construction not possible\u001b[0m\n",
      "\u001b[32m[0716 18:44.13 @view.py:561]\u001b[0m  \u001b[5m\u001b[35mWRN\u001b[0m  \u001b[97mhtml construction not possible\u001b[0m\n",
      "\u001b[32m[0716 18:44.13 @view.py:561]\u001b[0m  \u001b[5m\u001b[35mWRN\u001b[0m  \u001b[97mhtml construction not possible\u001b[0m\n",
      "\u001b[32m[0716 18:44.13 @view.py:561]\u001b[0m  \u001b[5m\u001b[35mWRN\u001b[0m  \u001b[97mhtml construction not possible\u001b[0m\n",
      "\u001b[32m[0716 18:44.13 @view.py:561]\u001b[0m  \u001b[5m\u001b[35mWRN\u001b[0m  \u001b[97mhtml construction not possible\u001b[0m\n",
      "\u001b[32m[0716 18:44.13 @view.py:561]\u001b[0m  \u001b[5m\u001b[35mWRN\u001b[0m  \u001b[97mhtml construction not possible\u001b[0m\n",
      "\u001b[32m[0716 18:44.13 @view.py:561]\u001b[0m  \u001b[5m\u001b[35mWRN\u001b[0m  \u001b[97mhtml construction not possible\u001b[0m\n",
      "\u001b[32m[0716 18:44.13 @view.py:561]\u001b[0m  \u001b[5m\u001b[35mWRN\u001b[0m  \u001b[97mhtml construction not possible\u001b[0m\n",
      "\u001b[32m[0716 18:44.13 @view.py:561]\u001b[0m  \u001b[5m\u001b[35mWRN\u001b[0m  \u001b[97mhtml construction not possible\u001b[0m\n",
      "\u001b[32m[0716 18:44.13 @view.py:561]\u001b[0m  \u001b[5m\u001b[35mWRN\u001b[0m  \u001b[97mhtml construction not possible\u001b[0m\n",
      "\u001b[32m[0716 18:44.13 @view.py:561]\u001b[0m  \u001b[5m\u001b[35mWRN\u001b[0m  \u001b[97mhtml construction not possible\u001b[0m\n",
      "\u001b[32m[0716 18:44.13 @view.py:561]\u001b[0m  \u001b[5m\u001b[35mWRN\u001b[0m  \u001b[97mhtml construction not possible\u001b[0m\n",
      "\u001b[32m[0716 18:44.13 @view.py:561]\u001b[0m  \u001b[5m\u001b[35mWRN\u001b[0m  \u001b[97mhtml construction not possible\u001b[0m\n",
      "\u001b[32m[0716 18:44.13 @view.py:561]\u001b[0m  \u001b[5m\u001b[35mWRN\u001b[0m  \u001b[97mhtml construction not possible\u001b[0m\n",
      "\u001b[32m[0716 18:44.13 @view.py:561]\u001b[0m  \u001b[5m\u001b[35mWRN\u001b[0m  \u001b[97mhtml construction not possible\u001b[0m\n",
      "\u001b[32m[0716 18:44.13 @view.py:561]\u001b[0m  \u001b[5m\u001b[35mWRN\u001b[0m  \u001b[97mhtml construction not possible\u001b[0m\n",
      "\u001b[32m[0716 18:44.13 @view.py:561]\u001b[0m  \u001b[5m\u001b[35mWRN\u001b[0m  \u001b[97mhtml construction not possible\u001b[0m\n",
      "\u001b[32m[0716 18:44.13 @view.py:561]\u001b[0m  \u001b[5m\u001b[35mWRN\u001b[0m  \u001b[97mhtml construction not possible\u001b[0m\n",
      "\u001b[32m[0716 18:44.13 @view.py:561]\u001b[0m  \u001b[5m\u001b[35mWRN\u001b[0m  \u001b[97mhtml construction not possible\u001b[0m\n",
      "\u001b[32m[0716 18:44.13 @view.py:561]\u001b[0m  \u001b[5m\u001b[35mWRN\u001b[0m  \u001b[97mhtml construction not possible\u001b[0m\n",
      "\u001b[32m[0716 18:44.13 @view.py:561]\u001b[0m  \u001b[5m\u001b[35mWRN\u001b[0m  \u001b[97mhtml construction not possible\u001b[0m\n"
     ]
    },
    {
     "data": {
      "text/html": [],
      "text/plain": [
       "<IPython.core.display.HTML object>"
      ]
     },
     "execution_count": 39,
     "metadata": {},
     "output_type": "execute_result"
    }
   ],
   "source": [
    "HTML(table.html)"
   ]
  },
  {
   "cell_type": "markdown",
   "metadata": {},
   "source": [
    "Use `table.csv` to load the table into a Pandas Dataframe."
   ]
  },
  {
   "cell_type": "code",
   "execution_count": 40,
   "metadata": {},
   "outputs": [
    {
     "data": {
      "text/plain": [
       "[['Emissionen ',\n",
       "  'Basisjahr 2021  ',\n",
       "  'N-1=2023 ',\n",
       "  'N=2024 ',\n",
       "  'Jahrlich% des Ziels/ Vorheriges Jahr ',\n",
       "  'Reduktion ggu. Basisjahr (9N/Basisjahr) ',\n",
       "  '2025 ',\n",
       "  '2030  ',\n",
       "  '2045 ',\n",
       "  'des Ziels/ Basisjahr '],\n",
       " ['Scope-i-THG-tmisionen ', '', '', '', '', '', '', ' ', '', ''],\n",
       " ['Scope-1-THG-Bruttoemissionen (tCO,e) exklusive biogener CO2. Emissionen ',\n",
       "  '618.089 ',\n",
       "  'n.a. ',\n",
       "  '405.621 ',\n",
       "  'n.a. ',\n",
       "  'n.a. ',\n",
       "  'n.a. ',\n",
       "  'n.a. ',\n",
       "  'n.a. ',\n",
       "  'n.a. '],\n",
       " ['Scope 1(tCO2e) aus Dampf, Wârme und Elektrizitât und Sonstiges, genutzt von Henkel ',\n",
       "  '360.792 ',\n",
       "  'n.a. ',\n",
       "  '220.463  ',\n",
       "  'n.a. ',\n",
       "  'n.a. ',\n",
       "  'n.a. ',\n",
       "  'n.a. ',\n",
       "  'n.a. ',\n",
       "  'n.a. '],\n",
       " ['Prozentsatz der Scope1-THG-Emisonen aus regulierten Emisionshandelsy,temen Scope 1(tCO2e) aus Dampf, Wârme und Elektrizitât, fur Dritte bereitgestellt ',\n",
       "  '257.298 ',\n",
       "  'n.a. ',\n",
       "  '185.158  ',\n",
       "  'n.a. ',\n",
       "  'n.a.  ',\n",
       "  'n.a. ',\n",
       "  'n.a.  ',\n",
       "  'n.a.  ',\n",
       "  'n.a. '],\n",
       " ['',\n",
       "  '52,2%  ',\n",
       "  'n.a. ',\n",
       "  '56,4% ',\n",
       "  'n.a.   ',\n",
       "  'n.a.  ',\n",
       "  'n.a. ',\n",
       "  'n.a.  ',\n",
       "  'n.a.  ',\n",
       "  'n.a. '],\n",
       " ['Sope2-THG-Emisionen (tCO,e) ', ' ', ' ', '', '  ', ' ', '', '  ', ' ', ''],\n",
       " ['Standortbezogene Scope-2-THG-Brutto- emissionen (tCO,e) Marktbezogene Scope-2-THG-Brutto- emissionen (tCO,e) ',\n",
       "  '330.837 ',\n",
       "  'n.a. ',\n",
       "  '320.897  ',\n",
       "  'n.a. ',\n",
       "  'n.a. ',\n",
       "  'n.a. ',\n",
       "  'n.a. ',\n",
       "  'n.a. ',\n",
       "  'n.a. '],\n",
       " ['',\n",
       "  '160.242 ',\n",
       "  'n.a. ',\n",
       "  '55.988 ',\n",
       "  'n.a. ',\n",
       "  'n.a. ',\n",
       "  'n.a. ',\n",
       "  'n.a. ',\n",
       "  'n.a. ',\n",
       "  'n.a. '],\n",
       " ['Sope12TGEm.Nen (t CO2e) Sopeia2IGtmisonn SBTi-Klimaziel Gelungbereichtco,e, ',\n",
       "  '',\n",
       "  '',\n",
       "  '',\n",
       "  '',\n",
       "  ' ',\n",
       "  '',\n",
       "  '',\n",
       "  '',\n",
       "  ''],\n",
       " ['',\n",
       "  '778.331 ',\n",
       "  'n.a. ',\n",
       "  '461.609 ',\n",
       "  'n.a. ',\n",
       "  '40,7%  ',\n",
       "  'n.a. ',\n",
       "  '451.432  ',\n",
       "  'n.a.  ',\n",
       "  '4,7% '],\n",
       " ['Signifikante Scopes-THG-tmisionen ', '', '', '', '', ' ', '', ' ', ' ', ''],\n",
       " ['Gesamte indirekte scope3-THG-Snutio- emissionen (tCO,e) Scopes-THG-tmisionen SBTi-Klimaziel Gelungbereichtco.e) ',\n",
       "  'n.a.1 ',\n",
       "  'n.a. ',\n",
       "  '37.676.071 ',\n",
       "  'n.a. ',\n",
       "  'n.a. ',\n",
       "  'n.a. ',\n",
       "  'n.a. ',\n",
       "  'n.a. ',\n",
       "  'n.a. '],\n",
       " ['',\n",
       "  '17.990.115 ',\n",
       "  'n.a. ',\n",
       "  '14.512.249 ',\n",
       "  'n.a. ',\n",
       "  '19,3% ',\n",
       "  'n.a. ',\n",
       "  '12.593.080  ',\n",
       "  'n.a.  ',\n",
       "  '3,3% '],\n",
       " ['1Erworbene Waren und Dienstleistungen ',\n",
       "  '14.289.354  ',\n",
       "  'n.a. ',\n",
       "  '11.468.812 ',\n",
       "  'n.a.  ',\n",
       "  'n.a.  ',\n",
       "  'n.a. ',\n",
       "  'n.a.  ',\n",
       "  'n.a.  ',\n",
       "  'n.a. '],\n",
       " [' ',\n",
       "  '8.997.901 ',\n",
       "  'n.a. ',\n",
       "  '6.984.857 1.750.742 ',\n",
       "  'n.a. ',\n",
       "  'n.a. ',\n",
       "  'n.a. ',\n",
       "  'n.a. ',\n",
       "  'n.a. ',\n",
       "  'n.a. '],\n",
       " ['1Erworbene Verpackungsmateralien ',\n",
       "  '2.383.257 ',\n",
       "  'n.a. ',\n",
       "  '',\n",
       "  'n.a. ',\n",
       "  'n.a. ',\n",
       "  'n.a. ',\n",
       "  'n.a.  ',\n",
       "  'n.a. ',\n",
       "  'n.a. '],\n",
       " ['1Sonstige 3.1 Emissionen ',\n",
       "  '2.908.196 ',\n",
       "  'n.a. ',\n",
       "  '2.733.213 ',\n",
       "  'n.a. ',\n",
       "  'n.a. ',\n",
       "  'n.a. ',\n",
       "  'n.a. ',\n",
       "  'n.a. ',\n",
       "  'n.a. '],\n",
       " ['2Investitionsguter ',\n",
       "  '207.500 ',\n",
       "  'n.a. ',\n",
       "  '259.335 ',\n",
       "  'n.a. ',\n",
       "  'n.a. ',\n",
       "  'n.a. ',\n",
       "  'n.a. ',\n",
       "  'n.a. ',\n",
       "  'n.a. ']]"
      ]
     },
     "execution_count": 40,
     "metadata": {},
     "output_type": "execute_result"
    }
   ],
   "source": [
    "table.csv  #pd.DataFrame(table.csv, columns=[\"Key\", \"Value\"])"
   ]
  },
  {
   "cell_type": "markdown",
   "metadata": {},
   "source": [
    "There is also a string representation of the table."
   ]
  },
  {
   "cell_type": "code",
   "execution_count": 41,
   "metadata": {},
   "outputs": [
    {
     "data": {
      "text/plain": [
       "'Emissionen  Basisjahr 2021   N-1=2023  N=2024  Jahrlich% des Ziels/ Vorheriges Jahr  Reduktion ggu. Basisjahr (9N/Basisjahr)  2025  2030   2045  des Ziels/ Basisjahr  \\n Scope-i-THG-tmisionen            \\n Scope-1-THG-Bruttoemissionen (tCO,e) exklusive biogener CO2. Emissionen  618.089  n.a.  405.621  n.a.  n.a.  n.a.  n.a.  n.a.  n.a.  \\n Scope 1(tCO2e) aus Dampf, Wârme und Elektrizitât und Sonstiges, genutzt von Henkel  360.792  n.a.  220.463   n.a.  n.a.  n.a.  n.a.  n.a.  n.a.  \\n Prozentsatz der Scope1-THG-Emisonen aus regulierten Emisionshandelsy,temen Scope 1(tCO2e) aus Dampf, Wârme und Elektrizitât, fur Dritte bereitgestellt  257.298  n.a.  185.158   n.a.  n.a.   n.a.  n.a.   n.a.   n.a.  \\n  52,2%   n.a.  56,4%  n.a.    n.a.   n.a.  n.a.   n.a.   n.a.  \\n Sope2-THG-Emisionen (tCO,e)                   \\n Standortbezogene Scope-2-THG-Brutto- emissionen (tCO,e) Marktbezogene Scope-2-THG-Brutto- emissionen (tCO,e)  330.837  n.a.  320.897   n.a.  n.a.  n.a.  n.a.  n.a.  n.a.  \\n  160.242  n.a.  55.988  n.a.  n.a.  n.a.  n.a.  n.a.  n.a.  \\n Sope12TGEm.Nen (t CO2e) Sopeia2IGtmisonn SBTi-Klimaziel Gelungbereichtco,e,            \\n  778.331  n.a.  461.609  n.a.  40,7%   n.a.  451.432   n.a.   4,7%  \\n Signifikante Scopes-THG-tmisionen              \\n Gesamte indirekte scope3-THG-Snutio- emissionen (tCO,e) Scopes-THG-tmisionen SBTi-Klimaziel Gelungbereichtco.e)  n.a.1  n.a.  37.676.071  n.a.  n.a.  n.a.  n.a.  n.a.  n.a.  \\n  17.990.115  n.a.  14.512.249  n.a.  19,3%  n.a.  12.593.080   n.a.   3,3%  \\n 1Erworbene Waren und Dienstleistungen  14.289.354   n.a.  11.468.812  n.a.   n.a.   n.a.  n.a.   n.a.   n.a.  \\n   8.997.901  n.a.  6.984.857 1.750.742  n.a.  n.a.  n.a.  n.a.  n.a.  n.a.  \\n 1Erworbene Verpackungsmateralien  2.383.257  n.a.   n.a.  n.a.  n.a.  n.a.   n.a.  n.a.  \\n 1Sonstige 3.1 Emissionen  2.908.196  n.a.  2.733.213  n.a.  n.a.  n.a.  n.a.  n.a.  n.a.  \\n 2Investitionsguter  207.500  n.a.  259.335  n.a.  n.a.  n.a.  n.a.  n.a.  n.a.  \\n'"
      ]
     },
     "execution_count": 41,
     "metadata": {},
     "output_type": "execute_result"
    }
   ],
   "source": [
    "table.text"
   ]
  },
  {
   "cell_type": "markdown",
   "metadata": {},
   "source": [
    "The method `kv_header_rows(row_number)` allows returning column headers and cell contents as key-value pairs for entire rows. Admittedly, the example here is flawed because the table lacks column headers. In fact, the table recognition model determines whether and where a column has a header. In this case, the prediction was incorrect.\n",
    "\n",
    "However, the principle becomes clear: we receive a dictionary with the schema \n",
    "\n",
    "```{(column_number, column_header(column_number)): cell(row_number, column_number).text}```."
   ]
  },
  {
   "cell_type": "code",
   "execution_count": 42,
   "metadata": {},
   "outputs": [
    {
     "data": {
      "text/plain": [
       "{}"
      ]
     },
     "execution_count": 42,
     "metadata": {},
     "output_type": "execute_result"
    }
   ],
   "source": [
    "table.kv_header_rows(2)"
   ]
  },
  {
   "cell_type": "markdown",
   "metadata": {},
   "source": [
    "Let's go deeper down the rabbit hole. A `Table` has cells and we can even get the text of one particular cell. Note that the output list is not sorted by row or column. But you can quickly sort the output according to your preferences."
   ]
  },
  {
   "cell_type": "code",
   "execution_count": 43,
   "metadata": {},
   "outputs": [
    {
     "data": {
      "text/plain": [
       "{'b64_image',\n",
       " 'bbox',\n",
       " 'body',\n",
       " 'column_header',\n",
       " 'column_number',\n",
       " 'column_span',\n",
       " 'header',\n",
       " 'layout_link',\n",
       " 'np_image',\n",
       " 'projected_row_header',\n",
       " 'reading_order',\n",
       " 'row_header',\n",
       " 'row_number',\n",
       " 'row_span',\n",
       " 'spanning',\n",
       " 'text',\n",
       " 'words'}"
      ]
     },
     "execution_count": 43,
     "metadata": {},
     "output_type": "execute_result"
    }
   ],
   "source": [
    "cell = table.cells[0]\n",
    "cell.get_attribute_names()"
   ]
  },
  {
   "cell_type": "code",
   "execution_count": 44,
   "metadata": {},
   "outputs": [
    {
     "name": "stdout",
     "output_type": "stream",
     "text": [
      "column number: 9 \n",
      " row_number: 5  \n",
      " bounding_box: Bounding Box(absolute_coords: True,ulx: 2089, uly: 427, lrx: 2138, lry: 452) \n",
      " text: n.a. \n",
      " annotation_id: aefd5673-57ce-3eb0-b3e4-1fbfd80cd45b\n"
     ]
    }
   ],
   "source": [
    "print(f\"column number: {cell.column_number} \\n row_number: {cell.row_number}  \\n bounding_box: {cell.bounding_box} \\n text: {cell.text} \\n annotation_id: {cell.annotation_id}\")"
   ]
  },
  {
   "cell_type": "markdown",
   "metadata": {},
   "source": [
    "Still not down yet, we have a list of `Word`s.  "
   ]
  },
  {
   "cell_type": "code",
   "execution_count": 45,
   "metadata": {},
   "outputs": [
    {
     "name": "stdout",
     "output_type": "stream",
     "text": [
      "score: 0.6740661263465881 \n",
      " characters: n.a. \n",
      " reading_order: 1 \n",
      " bounding_box: Bounding Box(absolute_coords: False,ulx: 0.86132812, uly: 0.41503906, lrx: 0.87988281, lry: 0.42773438)\n"
     ]
    }
   ],
   "source": [
    "for word in cell.words:\n",
    "    print(f\"score: {word.score} \\n characters: {word.characters} \\n reading_order: {word.reading_order} \\n bounding_box: {word.bounding_box}\")"
   ]
  },
  {
   "cell_type": "markdown",
   "metadata": {},
   "source": [
    "You can see that `Word`s have a `reading_order`, which refers only to the order of the words contained within the `cell`. The `reading_order` applies on two levels: to layout segments within a page and to words within a layout segment.\n",
    "\n",
    "There are additional reserved attributes, but most of them are not determined by this pipeline."
   ]
  },
  {
   "cell_type": "code",
   "execution_count": 46,
   "metadata": {},
   "outputs": [
    {
     "data": {
      "text/plain": [
       "{'b64_image',\n",
       " 'bbox',\n",
       " 'block',\n",
       " 'character_type',\n",
       " 'characters',\n",
       " 'handwritten',\n",
       " 'layout_link',\n",
       " 'link',\n",
       " 'np_image',\n",
       " 'printed',\n",
       " 'reading_order',\n",
       " 'tag',\n",
       " 'text_line',\n",
       " 'token_class',\n",
       " 'token_tag'}"
      ]
     },
     "execution_count": 46,
     "metadata": {},
     "output_type": "execute_result"
    }
   ],
   "source": [
    "word.get_attribute_names()"
   ]
  },
  {
   "cell_type": "markdown",
   "metadata": {},
   "source": [
    "## Saving and reading\n",
    "\n",
    "You can use the `save` method to save the result of the analyzer in a `.json` file. Setting `image_to_json=True` you will also save image as b64 encoding in the file. Beware, the files can be quite large then. "
   ]
  },
  {
   "cell_type": "code",
   "execution_count": null,
   "metadata": {},
   "outputs": [],
   "source": [
    "page.save(image_to_json=True, path=Path.cwd() / \"pics/samples/sample_2/sample_2.json\")"
   ]
  },
  {
   "cell_type": "markdown",
   "metadata": {},
   "source": [
    "Having saved the results you can easily parse the file into the `Page` format without loosing any information. The `page` instance below has almost the same structure as the `page` instance returned from the `analyzer` with only some lower level data structure missing that can be reconstructed, though."
   ]
  },
  {
   "cell_type": "code",
   "execution_count": 33,
   "metadata": {},
   "outputs": [],
   "source": [
    "page = dd.Page.from_file(file_path=Path.cwd() / \"pics/samples/sample_2/sample_2.json\")"
   ]
  },
  {
   "cell_type": "markdown",
   "metadata": {},
   "source": [
    "## Where to go from here\n",
    "\n",
    "There are several options: \n",
    "\n",
    "- You can check this [**notebook**](./Analyzer_More_On_Parsing.ipynb) where we process a different page and explore some more features about the parsed results.\n",
    "\n",
    "- Maybe you want to switch between different models or want to learn, how you can configure the analyzer. Then the\n",
    "  [**configuration notebook**](./Analyzer_Configuration.ipynb) might be interesting.\n",
    "\n",
    "- If you want to get a deeper understanding how a pipeline is composed, we suggest to look at the [**pipeline notebook**](./Pipelines.ipynb)."
   ]
  }
 ],
 "metadata": {
  "kernelspec": {
   "display_name": "Python 3 (ipykernel)",
   "language": "python",
   "name": "python3"
  },
  "language_info": {
   "codemirror_mode": {
    "name": "ipython",
    "version": 3
   },
   "file_extension": ".py",
   "mimetype": "text/x-python",
   "name": "python",
   "nbconvert_exporter": "python",
   "pygments_lexer": "ipython3",
   "version": "3.10.12"
  }
 },
 "nbformat": 4,
 "nbformat_minor": 4
}
