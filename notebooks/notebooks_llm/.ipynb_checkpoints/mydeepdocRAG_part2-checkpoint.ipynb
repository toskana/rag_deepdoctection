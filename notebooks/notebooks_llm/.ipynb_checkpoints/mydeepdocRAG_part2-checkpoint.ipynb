{
 "cells": [
  {
   "cell_type": "code",
   "execution_count": 1,
   "id": "f298c869-bf18-403c-bc40-12e2c3fda3b8",
   "metadata": {},
   "outputs": [],
   "source": [
    "from langchain.schema import Document"
   ]
  },
  {
   "cell_type": "code",
   "execution_count": 2,
   "id": "bec8d823-507e-40fc-8cd8-cc00cc9f62a3",
   "metadata": {},
   "outputs": [],
   "source": [
    "from langchain.text_splitter import RecursiveCharacterTextSplitter"
   ]
  },
  {
   "cell_type": "code",
   "execution_count": 3,
   "id": "7451fea7-59ad-44f6-ae99-2fae4ed5b5f3",
   "metadata": {},
   "outputs": [],
   "source": [
    "from langchain.vectorstores import FAISS"
   ]
  },
  {
   "cell_type": "code",
   "execution_count": 4,
   "id": "cbf9d792-f898-4a41-96ed-9bd681974dbf",
   "metadata": {},
   "outputs": [],
   "source": [
    "from langchain.chains import RetrievalQA"
   ]
  },
  {
   "cell_type": "code",
   "execution_count": 5,
   "id": "d9c28b49-05f3-4f34-9934-f68035fadd90",
   "metadata": {},
   "outputs": [],
   "source": [
    "from langchain.prompts import PromptTemplate"
   ]
  },
  {
   "cell_type": "code",
   "execution_count": 40,
   "id": "ce3e7544-6fdf-4da4-94fb-47cab3e577d5",
   "metadata": {},
   "outputs": [],
   "source": [
    "from typing import Optional, List, Dict, Mapping, Any"
   ]
  },
  {
   "cell_type": "code",
   "execution_count": 7,
   "id": "2cd60724-f1ce-45b0-a14e-de810c7563e0",
   "metadata": {},
   "outputs": [],
   "source": [
    "from langchain.embeddings import HuggingFaceEmbeddings"
   ]
  },
  {
   "cell_type": "code",
   "execution_count": 8,
   "id": "7c4dbb86-8698-4606-ba31-a147aa7a50b2",
   "metadata": {},
   "outputs": [],
   "source": [
    "from sentence_transformers import SentenceTransformer"
   ]
  },
  {
   "cell_type": "code",
   "execution_count": 9,
   "id": "82718f78-8d69-42e2-85a5-ff4f145da96f",
   "metadata": {},
   "outputs": [],
   "source": [
    "import json"
   ]
  },
  {
   "cell_type": "code",
   "execution_count": 10,
   "id": "baac40ed-6f8b-4d81-a225-929b0f773b06",
   "metadata": {},
   "outputs": [],
   "source": [
    "import pandas as pd"
   ]
  },
  {
   "cell_type": "code",
   "execution_count": 11,
   "id": "eea1f8a1-8ee7-45a7-90fe-e5a2dad9cfc4",
   "metadata": {},
   "outputs": [],
   "source": [
    "from io import StringIO"
   ]
  },
  {
   "cell_type": "code",
   "execution_count": 45,
   "id": "d03832d5-532e-4bf4-a162-a774812ce873",
   "metadata": {},
   "outputs": [],
   "source": [
    "import requests"
   ]
  },
  {
   "cell_type": "code",
   "execution_count": 38,
   "id": "ae96079a-e407-41d9-93a0-692645d7e2fb",
   "metadata": {},
   "outputs": [],
   "source": [
    "from langchain.llms.base import LLM"
   ]
  },
  {
   "cell_type": "code",
   "execution_count": 12,
   "id": "61d09a14-9ab6-4b69-a6dd-cb160c0e3aa7",
   "metadata": {},
   "outputs": [],
   "source": [
    "def inspect_pages_data(pages_data, max_pages=2, max_chunks=3, max_text_len=1000, max_rows=50, max_cols=10):\n",
    "    print(f\"Anzahl Seiten: {len(pages_data)}\")\n",
    "    if len(pages_data) == 0:\n",
    "        print(\"Keine Seiten im Datenobjekt.\")\n",
    "        return\n",
    "\n",
    "    for i, page in enumerate(pages_data[:max_pages]):\n",
    "        print(f\"\\n=== Seite {i+1} ===\")\n",
    "        print(f\"Typ: {type(page)}\")\n",
    "        print(f\"Keys: {list(page.keys())}\")\n",
    "        print(f\"Seiten-Nummer: {page.get('page_number')}\")\n",
    "        print(f\"Dateiname: {page.get('file_name')}\")\n",
    "        print(f\"Text (erste {max_text_len} Zeichen): {page.get('text', '')[:max_text_len]!r}\")\n",
    "\n",
    "        chunks = page.get(\"chunks\", [])\n",
    "        print(f\"Anzahl Chunks: {len(chunks)}\")\n",
    "        for j, chunk in enumerate(chunks[:max_chunks]):\n",
    "            if isinstance(chunk, tuple) and len(chunk) == 2:\n",
    "                bbox, text = chunk\n",
    "                print(f\"  Chunk {j+1}: bbox={bbox}, text={text[:max_text_len]!r}\")\n",
    "            else:\n",
    "                print(f\"  Chunk {j+1}: {str(chunk)[:max_text_len]!r}\")\n",
    "\n",
    "        tables = page.get(\"tables\", [])\n",
    "        print(f\"Anzahl Tabellen: {len(tables)}\")\n",
    "        for k, table in enumerate(tables):\n",
    "            print(f\"\\n  Tabelle {k+1}: Typ={type(table)} Größe={table.shape if hasattr(table, 'shape') else 'unbekannt'}\")\n",
    "            if hasattr(table, \"head\"):\n",
    "                # Ausgabe der ersten max_rows Zeilen, max_cols Spalten, als Text\n",
    "                print(table.iloc[:max_rows, :max_cols].to_string(index=False))\n",
    "            else:\n",
    "                print(str(table)[:max_text_len])"
   ]
  },
  {
   "cell_type": "code",
   "execution_count": null,
   "id": "e4f53b6c",
   "metadata": {},
   "outputs": [],
   "source": [
    "# Nur mit transformers\n",
    "def chunk_document(pages: List[Dict[str, Any]], max_tokens: int = 512) -> List[Dict[str, Any]]:\n",
    "    \"\"\"Fügt Text und Tabellen aus Seiten zusammen und chunked sie.\"\"\"\n",
    "    from transformers import AutoTokenizer\n",
    "    tokenizer = AutoTokenizer.from_pretrained(\"bert-base-uncased\")  # anpassbar\n",
    "\n",
    "    chunks = []\n",
    "    current_chunk = \"\"\n",
    "    current_meta = []\n",
    "\n",
    "    for page in pages:\n",
    "        full_text = page[\"text\"].strip()\n",
    "\n",
    "        # Optional: Tabellen als Text anhängen\n",
    "        for df in page[\"tables\"]:\n",
    "            full_text += \"\\n\\n\" + df.to_string(index=False)\n",
    "\n",
    "        # Chunking per Token-Limit\n",
    "        tokens = tokenizer.tokenize(current_chunk + full_text)\n",
    "        if len(tokens) > max_tokens:\n",
    "            chunks.append({\n",
    "                \"text\": current_chunk.strip(),\n",
    "                \"meta\": current_meta\n",
    "            })\n",
    "            current_chunk = full_text\n",
    "            current_meta = [page]\n",
    "        else:\n",
    "            current_chunk += \"\\n\\n\" + full_text\n",
    "            current_meta.append(page)\n",
    "\n",
    "    if current_chunk:\n",
    "        chunks.append({\n",
    "            \"text\": current_chunk.strip(),\n",
    "            \"meta\": current_meta\n",
    "        })\n",
    "\n",
    "    return chunks"
   ]
  },
  {
   "cell_type": "code",
   "execution_count": 13,
   "id": "de3d4774",
   "metadata": {},
   "outputs": [],
   "source": [
    "def build_documents_from_pages(pages_data):\n",
    "    \"\"\"\n",
    "    Wandelt die Liste von Seiten-Dictionaries (aus DeepDoctection) \n",
    "    in eine Liste von LangChain Document-Objekten um.\n",
    "    \"\"\"\n",
    "    documents = []\n",
    "    for page in pages_data:\n",
    "        # Text der Seite\n",
    "        page_text = page[\"text\"].strip()\n",
    "\n",
    "        # Tabellen als Text anfügen (optional)\n",
    "        for df in page.get(\"tables\", []):\n",
    "            page_text += \"\\n\\n\" + df.to_string(index=False)\n",
    "\n",
    "        # Metadaten mitgeben\n",
    "        metadata = {\n",
    "            \"page_number\": page[\"page_number\"],\n",
    "            \"file_name\": page.get(\"file_name\", None),\n",
    "        }\n",
    "\n",
    "        doc = Document(page_content=page_text, metadata=metadata)\n",
    "        documents.append(doc)\n",
    "\n",
    "    return documents"
   ]
  },
  {
   "cell_type": "code",
   "execution_count": 14,
   "id": "c12cafeb-788a-43b0-a906-6b137baf1add",
   "metadata": {},
   "outputs": [],
   "source": [
    "def import_pages_data_from_json(input_file):\n",
    "    with open(input_file, \"r\", encoding=\"utf-8\") as f:\n",
    "        data = json.load(f)\n",
    "\n",
    "    pages_data = []\n",
    "    for page_entry in data:\n",
    "        page = {\n",
    "            \"page_number\": page_entry.get(\"page_number\"),\n",
    "            \"file_name\": page_entry.get(\"file_name\"),\n",
    "            \"document_id\": page_entry.get(\"document_id\"),\n",
    "            \"image_id\": page_entry.get(\"image_id\"),\n",
    "            \"width\": page_entry.get(\"width\"),\n",
    "            \"height\": page_entry.get(\"height\"),\n",
    "            \"text\": page_entry.get(\"text\"),\n",
    "            \"tables\": []\n",
    "        }\n",
    "\n",
    "        for csv_str in page_entry.get(\"tables\", []):\n",
    "            # CSV-String zurück in DataFrame konvertieren\n",
    "            df = pd.read_csv(StringIO(csv_str))\n",
    "            page[\"tables\"].append(df)\n",
    "\n",
    "        pages_data.append(page)\n",
    "\n",
    "    return pages_data"
   ]
  },
  {
   "cell_type": "code",
   "execution_count": 67,
   "id": "57d0333e-12a3-498e-8289-94b6ab94f5a1",
   "metadata": {},
   "outputs": [],
   "source": [
    "def load_vectorstore(speicherpfad):\n",
    "    # Gleicher Embedding-Model-Name wie beim Speichern\n",
    "    embedding_model = HuggingFaceEmbeddings(model_name=\"all-MiniLM-L6-v2\")\n",
    "\n",
    "    # Vectorstore laden\n",
    "    vectorstore = FAISS.load_local(speicherpfad, embeddings=embedding_model, allow_dangerous_deserialization=True)\n",
    "    return vectorstore"
   ]
  },
  {
   "cell_type": "code",
   "execution_count": 41,
   "id": "1fda9616-45b2-40dd-98dd-c797e74cd358",
   "metadata": {},
   "outputs": [],
   "source": [
    "class LocalLlamaLLM(LLM):\n",
    "    endpoint: Optional[str] = None  # Optional mit Default None\n",
    "\n",
    "    def __init__(self, device: str = \"cpu\", **kwargs):\n",
    "        super().__init__(**kwargs)\n",
    "        if device == \"gpu\":\n",
    "            self.endpoint = \"http://llm-gpu:5001/completion\"\n",
    "        else:\n",
    "            self.endpoint = \"http://llm-cpu:5000/completion\"\n",
    "\n",
    "    def _call(self, prompt: str, stop: Optional[List[str]] = None) -> str:\n",
    "        response = requests.post(self.endpoint, json={\"prompt\": prompt, \"n_predict\": 100})\n",
    "        response.raise_for_status()\n",
    "        data = response.json()\n",
    "        return data.get(\"content\", \"\")\n",
    "\n",
    "    @property\n",
    "    def _identifying_params(self) -> Mapping[str, Any]:\n",
    "        return {\"endpoint\": self.endpoint}\n",
    "\n",
    "    @property\n",
    "    def _llm_type(self) -> str:\n",
    "        return \"local_llama\""
   ]
  },
  {
   "cell_type": "code",
   "execution_count": 57,
   "id": "14fc02d9-5043-4a8d-8f96-6934b9433b14",
   "metadata": {},
   "outputs": [],
   "source": [
    "def print_clean_result (antwort):\n",
    "    clean_result = antwort[\"result\"].replace(\"Answer:\", \"\").strip()\n",
    "    print(clean_result)\n",
    "    return  "
   ]
  },
  {
   "cell_type": "code",
   "execution_count": 15,
   "id": "044ac502-d1a2-4ad2-8b09-12eff0a5c46c",
   "metadata": {},
   "outputs": [
    {
     "name": "stdout",
     "output_type": "stream",
     "text": [
      "2 Seiten wurden geladen.\n"
     ]
    }
   ],
   "source": [
    "pages_data = import_pages_data_from_json(input_file=\"/notebooks/json/extracted_pages_data.json\")\n",
    "print(f\"{len(pages_data)} Seiten wurden geladen.\")"
   ]
  },
  {
   "cell_type": "code",
   "execution_count": 16,
   "id": "c2f1a7e7-9ecc-4c8d-81e6-1ccac4b92482",
   "metadata": {
    "lines_to_next_cell": 2
   },
   "outputs": [
    {
     "name": "stdout",
     "output_type": "stream",
     "text": [
      "Anzahl Seiten: 2\n",
      "\n",
      "=== Seite 1 ===\n",
      "Typ: <class 'dict'>\n",
      "Keys: ['page_number', 'file_name', 'document_id', 'image_id', 'width', 'height', 'text', 'tables']\n",
      "Seiten-Nummer: 0\n",
      "Dateiname: 2024-nachhaltigkeitsbericht_tab_0.pdf\n",
      "Text (erste 1000 Zeichen): 'HENKEL NACHHALTIGKEITSBERICHT 2024\\n( QB\\n161\\nVORWORT\\nREFERENZ- UND\\nBERICHTSRAHMEN\\nALLGEMEINE ANGABEN\\n(ESRS2)\\nKLIMAWANDEL (ESRS E1)\\nUMWELTVERSCHMUTZUNG\\n(ESRS E2)\\nWASSER- UND MEERES-\\nRESSOURCEN (ESRS E3)\\nBIOLOGISCHE VIELFALTUND\\nOKOSYSTEME (ESRS E4)\\nRESSOURCENNUTZUNG\\nUND KRESLAUPWIRISCHAFT\\n(ESRS E5)\\nARBEITSKRAFTE DES UNTER-\\nNEHMENS (ESRS S1)\\nARBEITSKRAFTE IN DERWERT-\\nSCHOPFUNGSKETTE (ESRS S2)\\nBETROFFENE GEMEINSCHAFTEN\\n(ESRS S3)\\nVERBRAUCHER:INNEN UND\\nENDNUTZERINNEN (ESRS S4)\\nUNTERNEHMENSFOHRUNG\\n(ESRS G1)\\nWEITERE INFORMATIONEN\\nTHG-Brutoemisionen der Kategorien Scope 1,2und3 3s sowie THG-Gesamtemissionen (MDR-T_80d,80e, 80j, E1-4340,346.E1-6AR41AR4REHG,44EM632aS26,E1-6.51,E1-6.53)\\nTHG-Emissionen\\nFORTSETZUNG DER TABELLE AUF DERN NACHSTENISEITE\\n1Erworbene Rohstoffe'\n",
      "Anzahl Chunks: 0\n",
      "Anzahl Tabellen: 1\n",
      "\n",
      "  Tabelle 1: Typ=<class 'pandas.core.frame.DataFrame'> Größe=(19, 10)\n",
      "  0                                                                                  1          2        3                   4                                    5                                       6    7    8    9\n",
      "NaN                                                                                NaN        NaN      NaN                 NaN                                  NaN                                     NaN  NaN  NaN  NaN\n",
      "NaN                                                                         Emissionen        NaN N-1=2023              N=2024 Jahrlich% des Ziels/ Vorheriges Jahr Reduktion ggu. Basisjahr (9N/Basisjahr) 2025  NaN 2045\n",
      "NaN                                                              Scope-i-THG-tmisionen        NaN      NaN                 NaN                                  NaN                                     NaN  NaN  NaN  NaN\n",
      "NaN            Scope-1-THG-Bruttoemissionen (tCO,e) exklusive biogener CO2. Emissionen    618.089     n.a.             405.621                                 n.a.                                    n.a. n.a. n.a. n.a.\n",
      "NaN Scope 1(tCO2e) aus Dampf, Wârme und Elektrizitât und Sonstiges, genutzt von Henkel    360.792     n.a.                 NaN                                 n.a.                                    n.a. n.a. n.a. n.a.\n",
      "NaN        Scope 1(tCO2e) aus Dampf, Wârme und Elektrizitât, fur Dritte bereitgestellt    257.298     n.a.                 NaN                                 n.a.                                     NaN n.a.  NaN  NaN\n",
      "NaN                                                                                NaN        NaN     n.a.               56,4%                                  NaN                                     NaN n.a.  NaN  NaN\n",
      "NaN                                                        Sope2-THG-Emisionen (tCO,e)        NaN      NaN                 NaN                                  NaN                                     NaN  NaN  NaN  NaN\n",
      "NaN                               Marktbezogene Scope-2-THG-Brutto- emissionen (tCO,e)    330.837     n.a.                 NaN                                 n.a.                                    n.a. n.a. n.a. n.a.\n",
      "NaN                                                                                NaN    160.242     n.a.              55.988                                 n.a.                                    n.a. n.a. n.a. n.a.\n",
      "NaN                                Sopeia2IGtmisonn SBTi-Klimaziel Gelungbereichtco,e,        NaN      NaN                 NaN                                  NaN                                     NaN  NaN  NaN  NaN\n",
      "NaN                                                                                NaN    778.331     n.a.             461.609                                 n.a.                                     NaN n.a.  NaN  NaN\n",
      "NaN                                                  Signifikante Scopes-THG-tmisionen        NaN      NaN                 NaN                                  NaN                                     NaN  NaN  NaN  NaN\n",
      "NaN                            Scopes-THG-tmisionen SBTi-Klimaziel Gelungbereichtco.e)      n.a.1     n.a.          37.676.071                                 n.a.                                    n.a. n.a. n.a. n.a.\n",
      "NaN                                                                                NaN 17.990.115     n.a.          14.512.249                                 n.a.                                   19,3% n.a.  NaN  NaN\n",
      "NaN                                              1Erworbene Waren und Dienstleistungen        NaN     n.a.          11.468.812                                  NaN                                     NaN n.a.  NaN  NaN\n",
      "NaN                                                                                NaN  8.997.901     n.a. 6.984.857 1.750.742                                 n.a.                                    n.a. n.a. n.a. n.a.\n",
      "NaN                                                   1Erworbene Verpackungsmateralien  2.383.257     n.a.                 NaN                                 n.a.                                    n.a. n.a.  NaN n.a.\n",
      "NaN                                                           1Sonstige 3.1 Emissionen  2.908.196     n.a.           2.733.213                                 n.a.                                    n.a. n.a. n.a. n.a.\n",
      "\n",
      "=== Seite 2 ===\n",
      "Typ: <class 'dict'>\n",
      "Keys: ['page_number', 'file_name', 'document_id', 'image_id', 'width', 'height', 'text', 'tables']\n",
      "Seiten-Nummer: 1\n",
      "Dateiname: 2024-nachhaltigkeitsbericht_tab_1.pdf\n",
      "Text (erste 1000 Zeichen): 'HENKEL NACHHALTIGKEITSBERICHT 2024\\n( QB\\n168\\nVORWORT\\nREFERENZ- UND\\nBERICHTSRAHMEN\\nALLGEMEINE ANGABEN\\n(ESRS2)\\nKLIMAWANDEL (ESRS E1)\\nUMWELTVERSCHMUTZUNG\\n(ESRS E2)\\nWASSER- UND MEERES-\\nRESSOURCEN (ESRS E3)\\nBIOLOGISCHE VIELFALTUND\\nOKOSYSTEME (ESRS E4)\\nRESSOURCENNUTZUNG\\nUND KRESLAUPWIRISCHAFT\\n(ESRS E5)\\nARBEITSKRAFTE DES UNTER-\\nNEHMENS (ESRS S1)\\nARBEITSKRAFTE IN DERWERT-\\nSCHOPFUNGSKETTE (ESRS S2)\\nBETROFFENE GEMEINSCHAFTEN\\n(ESRS S3)\\nVERBRAUCHER:INNEN UND ENDNUTZERINNEN (ESRS S4)\\nUNTERNEHMENSFOHRUNG (ESRS G1)\\nWEITERE INFORMATIONEN\\nTHG-Emissionen\\nAngaben sind nicht aussagekrâftig, das sich die Darstellung des Basisjahres ausschlieBlich auf den Geltungsbereich unserer SBTi-K -Klimaziele bezieht und nicht die ausgeschlossene Kategorie (3.11)fur Emissionen aus der indirekten Nutzungsphase umfasst. Details zuu unseren SBT-Klimazielen: sind im Abschnitt Zielei im Zusammenhang mit dem Klimaschutz und der Anpassung an den Klimawandel\" (E1-4) ausgefuhrt. 2Diez zur Berechnung der Emissionen fur das Jahr 2'\n",
      "Anzahl Chunks: 0\n",
      "Anzahl Tabellen: 1\n",
      "\n",
      "  Tabelle 1: Typ=<class 'pandas.core.frame.DataFrame'> Größe=(20, 10)\n",
      "  0                                                                                                      1              2        3          4                                    5                                       6    7    8         9\n",
      "NaN                                                                                                    NaN            NaN      NaN        NaN                                  NaN                                     NaN  NaN  NaN       NaN\n",
      "NaN 3Tâtigkeiteni im Zusammenhang mit Brenn- stoffen und Energie (nicht in Scope 1oder Scope 2€ enthalten) Basisjahr 2021 N-1=2023        NaN Jahrlich% des Ziels/ Vorheriges Jahr Reduktion ggu. Basisjahr (%N/Basisjahr) 2025 2030      2045\n",
      "NaN                                                                                                    NaN            NaN     n.a.    235.407                                 n.a.                                    n.a. n.a. n.a.      n.a.\n",
      "NaN                                    4Vorgelagerter Transport und Vertrieb 5Abfallaufkommen in Betrieben      1.096.389     n.a.    818.920                                 n.a.                                    n.a. n.a. n.a.      n.a.\n",
      "NaN                                                                                                    NaN            NaN     n.a.        NaN                                  NaN                                    n.a.  NaN n.a.       NaN\n",
      "NaN                                                                                                    NaN            NaN     n.a.        NaN                                  NaN                                    n.a.  NaN n.a.       NaN\n",
      "NaN                                                                                                    NaN         47.221     n.a.     42.003                                 n.a.                                    n.a. n.a. n.a.      n.a.\n",
      "NaN                                                                8Vorgelagerte geleaste Wirtschaftsguter           n.a.     n.a.       n.a.                                 n.a.                                    n.a. n.a. n.a.      n.a.\n",
      "NaN                                                                 9Nachgelagerter Transport und Vertrieb         66.708     n.a.     67.170                                 n.a.                                    n.a. n.a. n.a.      n.a.\n",
      "NaN                                                                     10Verarbeitung verkaufter Produkte           n.a.     n.a.       n.a.                                 n.a.                                    n.a. n.a. n.a.      n.a.\n",
      "NaN                                                                     11) Verwendung verkaufter Produkte           n.a.     n.a. 23.163.822                                 n.a.                                    n.a.  NaN n.a.      n.a.\n",
      "NaN                                                                                                    NaN      1.864.474     n.a.  1.436.546                                 n.a.                                    n.a. n.a. n.a.      n.a.\n",
      "NaN                                                                              geleaste Wirtschaftsguter           n.a.     n.a.       n.a.                                 n.a.                                    n.a. n.a. n.a.      n.a.\n",
      "NaN                                                                                           14Franchises           n.a.     n.a.       n.a.                                 n.a.                                    n.a. n.a. n.a.       NaN\n",
      "NaN                                                                                      151 Investitionen         15.909     n.a.     88.127                                 n.a.                                    n.a. n.a. n.a.       NaN\n",
      "NaN                                                                               THG-Emissionen insgesamt            NaN      NaN        NaN                                  NaN                                     NaN  NaN  NaN       NaN\n",
      "NaN                                                                                                    NaN          n.a.1     n.a. 38.402.589                                 n.a.                                    n.a. n.a. n.a.       NaN\n",
      "NaN                                                        THG-Emissionen insgesamt (marktbezogen) (tCO2e)          n.a.'     n.a. 38.137.680                                 n.a.                                    n.a.  NaN n.a.      n.a.\n",
      "NaN                                      THG-Emissionen insgesamt (SBTI-Klimaziel Geltungsbereich) (tCO2e)     18.768.446     n.a. 14.973.858                                 n.a.                                   20,2%  NaN n.a. 1.876.845\n",
      "NaN                                                                                     Biogene Emissionen            NaN      NaN        NaN                                  NaN                                     NaN  NaN  NaN       NaN\n"
     ]
    }
   ],
   "source": [
    "inspect_pages_data(pages_data)"
   ]
  },
  {
   "cell_type": "code",
   "execution_count": 22,
   "id": "8030da93-522a-440a-817b-6d56e9a09588",
   "metadata": {
    "lines_to_next_cell": 2
   },
   "outputs": [],
   "source": [
    "# Beispiel: Wandele pages_data um in LangChain documents\n",
    "documents = build_documents_from_pages(pages_data)"
   ]
  },
  {
   "cell_type": "code",
   "execution_count": 24,
   "id": "c1609771-97e3-4292-b15e-85bb9424cbd9",
   "metadata": {
    "lines_to_next_cell": 2
   },
   "outputs": [
    {
     "name": "stdout",
     "output_type": "stream",
     "text": [
      "Aus 2 Seiten wurden 14 Chunks erzeugt.\n"
     ]
    }
   ],
   "source": [
    "# Jetzt Text in Chunks splitten\n",
    "text_splitter = RecursiveCharacterTextSplitter(chunk_size=1000, chunk_overlap=100)\n",
    "alle_chunks = text_splitter.split_documents(documents)\n",
    "    \n",
    "print(f\"Aus {len(documents)} Seiten wurden {len(alle_chunks)} Chunks erzeugt.\")"
   ]
  },
  {
   "cell_type": "code",
   "execution_count": 32,
   "id": "11641932",
   "metadata": {},
   "outputs": [
    {
     "name": "stdout",
     "output_type": "stream",
     "text": [
      "\n",
      "=== Chunk 1 ===\n",
      "HENKEL NACHHALTIGKEITSBERICHT 2024\n",
      "( QB\n",
      "161\n",
      "VORWORT\n",
      "REFERENZ- UND\n",
      "BERICHTSRAHMEN\n",
      "ALLGEMEINE ANGABEN\n",
      "(ESRS2)\n",
      "KLIMAWANDEL (ESRS E1)\n",
      "UMWELTVERSCHMUTZUNG\n",
      "(ESRS E2)\n",
      "WASSER- UND MEERES-\n",
      "RESSOURCEN (ESRS E3)\n",
      "BIOLOGISCHE VIELFALTUND\n",
      "OKOSYSTEME (ESRS E4)\n",
      "RESSOURCENNUTZUNG\n",
      "UND KRESLAUPWIRISCHAFT\n",
      "(ESRS E5)\n",
      "ARBEITSKRAFTE DES UNTER-\n",
      "NEHMENS (ESRS S1)\n",
      "ARBEITSKRAFTE IN DERWERT-\n",
      "SCHOPFUNGSKETTE (ESRS S2)\n",
      "BETROFFENE GEMEINSCHAFTEN\n",
      "(ESRS S3)\n",
      "VERBRAUCHER:INNEN UND\n",
      "ENDNUTZERINNEN (ESRS S4)\n",
      "UNTERNEHMENSFOHRUNG\n",
      "(ESRS...\n",
      "Seite: 0\n",
      "\n",
      "=== Chunk 2 ===\n",
      "0                                                                                  1          2        3                   4                                    5                                       6    7    8    9\n",
      "NaN                                                                                NaN        NaN      NaN                 NaN                                  NaN                                     NaN  NaN  NaN  NaN\n",
      "NaN                                                             ...\n",
      "Seite: 0\n",
      "\n",
      "=== Chunk 3 ===\n",
      "NaN            Scope-1-THG-Bruttoemissionen (tCO,e) exklusive biogener CO2. Emissionen    618.089     n.a.             405.621                                 n.a.                                    n.a. n.a. n.a. n.a.\n",
      "NaN Scope 1(tCO2e) aus Dampf, Wârme und Elektrizitât und Sonstiges, genutzt von Henkel    360.792     n.a.                 NaN                                 n.a.                                    n.a. n.a. n.a. n.a.\n",
      "NaN        Scope 1(tCO2e) aus Dampf, Wârme und Elektrizitât, f...\n",
      "Seite: 0\n",
      "\n",
      "=== Chunk 4 ===\n",
      "NaN                                                        Sope2-THG-Emisionen (tCO,e)        NaN      NaN                 NaN                                  NaN                                     NaN  NaN  NaN  NaN\n",
      "NaN                               Marktbezogene Scope-2-THG-Brutto- emissionen (tCO,e)    330.837     n.a.                 NaN                                 n.a.                                    n.a. n.a. n.a. n.a.\n",
      "NaN                                                           ...\n",
      "Seite: 0\n",
      "\n",
      "=== Chunk 5 ===\n",
      "NaN                                                                                NaN    778.331     n.a.             461.609                                 n.a.                                     NaN n.a.  NaN  NaN\n",
      "NaN                                                  Signifikante Scopes-THG-tmisionen        NaN      NaN                 NaN                                  NaN                                     NaN  NaN  NaN  NaN\n",
      "NaN                            Scopes-THG-tmisionen SBTi-Klima...\n",
      "Seite: 0\n",
      "\n",
      "=== Chunk 6 ===\n",
      "NaN                                              1Erworbene Waren und Dienstleistungen        NaN     n.a.          11.468.812                                  NaN                                     NaN n.a.  NaN  NaN\n",
      "NaN                                                                                NaN  8.997.901     n.a. 6.984.857 1.750.742                                 n.a.                                    n.a. n.a. n.a. n.a.\n",
      "NaN                                                   1Erworbe...\n",
      "Seite: 0\n",
      "\n",
      "=== Chunk 7 ===\n",
      "HENKEL NACHHALTIGKEITSBERICHT 2024\n",
      "( QB\n",
      "168\n",
      "VORWORT\n",
      "REFERENZ- UND\n",
      "BERICHTSRAHMEN\n",
      "ALLGEMEINE ANGABEN\n",
      "(ESRS2)\n",
      "KLIMAWANDEL (ESRS E1)\n",
      "UMWELTVERSCHMUTZUNG\n",
      "(ESRS E2)\n",
      "WASSER- UND MEERES-\n",
      "RESSOURCEN (ESRS E3)\n",
      "BIOLOGISCHE VIELFALTUND\n",
      "OKOSYSTEME (ESRS E4)\n",
      "RESSOURCENNUTZUNG\n",
      "UND KRESLAUPWIRISCHAFT\n",
      "(ESRS E5)\n",
      "ARBEITSKRAFTE DES UNTER-\n",
      "NEHMENS (ESRS S1)\n",
      "ARBEITSKRAFTE IN DERWERT-\n",
      "SCHOPFUNGSKETTE (ESRS S2)\n",
      "BETROFFENE GEMEINSCHAFTEN\n",
      "(ESRS S3)\n",
      "VERBRAUCHER:INNEN UND ENDNUTZERINNEN (ESRS S4)\n",
      "UNTERNEHMENSFOHRUNG (ESRS...\n",
      "Seite: 1\n",
      "\n",
      "=== Chunk 8 ===\n",
      "UNTERNEHMENSFOHRUNG (ESRS G1)\n",
      "WEITERE INFORMATIONEN\n",
      "THG-Emissionen\n",
      "Angaben sind nicht aussagekrâftig, das sich die Darstellung des Basisjahres ausschlieBlich auf den Geltungsbereich unserer SBTi-K -Klimaziele bezieht und nicht die ausgeschlossene Kategorie (3.11)fur Emissionen aus der indirekten Nutzungsphase umfasst. Details zuu unseren SBT-Klimazielen: sind im Abschnitt Zielei im Zusammenhang mit dem Klimaschutz und der Anpassung an den Klimawandel\" (E1-4) ausgefuhrt. 2Diez zur Berechnung der ...\n",
      "Seite: 1\n",
      "\n",
      "=== Chunk 9 ===\n",
      "0                                                                                                      1              2        3          4                                    5                                       6    7    8         9\n",
      "NaN                                                                                                    NaN            NaN      NaN        NaN                                  NaN                                     NaN  NaN  NaN       NaN\n",
      "NaN 3Tâtigkeiteni im Zus...\n",
      "Seite: 1\n",
      "\n",
      "=== Chunk 10 ===\n",
      "NaN                                    4Vorgelagerter Transport und Vertrieb 5Abfallaufkommen in Betrieben      1.096.389     n.a.    818.920                                 n.a.                                    n.a. n.a. n.a.      n.a.\n",
      "NaN                                                                                                    NaN            NaN     n.a.        NaN                                  NaN                                    n.a.  NaN n.a.       NaN\n",
      "NaN                   ...\n",
      "Seite: 1\n",
      "\n",
      "=== Chunk 11 ===\n",
      "NaN                                                                8Vorgelagerte geleaste Wirtschaftsguter           n.a.     n.a.       n.a.                                 n.a.                                    n.a. n.a. n.a.      n.a.\n",
      "NaN                                                                 9Nachgelagerter Transport und Vertrieb         66.708     n.a.     67.170                                 n.a.                                    n.a. n.a. n.a.      n.a.\n",
      "NaN                   ...\n",
      "Seite: 1\n",
      "\n",
      "=== Chunk 12 ===\n",
      "NaN                                                                                                    NaN      1.864.474     n.a.  1.436.546                                 n.a.                                    n.a. n.a. n.a.      n.a.\n",
      "NaN                                                                              geleaste Wirtschaftsguter           n.a.     n.a.       n.a.                                 n.a.                                    n.a. n.a. n.a.      n.a.\n",
      "NaN                   ...\n",
      "Seite: 1\n",
      "\n",
      "=== Chunk 13 ===\n",
      "NaN                                                                               THG-Emissionen insgesamt            NaN      NaN        NaN                                  NaN                                     NaN  NaN  NaN       NaN\n",
      "NaN                                                                                                    NaN          n.a.1     n.a. 38.402.589                                 n.a.                                    n.a. n.a. n.a.       NaN\n",
      "NaN                   ...\n",
      "Seite: 1\n",
      "\n",
      "=== Chunk 14 ===\n",
      "NaN                                                                                     Biogene Emissionen            NaN      NaN        NaN                                  NaN                                     NaN  NaN  NaN       NaN...\n",
      "Seite: 1\n"
     ]
    }
   ],
   "source": [
    "for i, chunk in enumerate(alle_chunks):\n",
    "    print(f\"\\n=== Chunk {i+1} ===\")\n",
    "    print(chunk.page_content[:500] + \"...\")\n",
    "    print(\"Seite:\", chunk.metadata.get(\"page_number\"))"
   ]
  },
  {
   "cell_type": "code",
   "execution_count": 33,
   "id": "c1bee026",
   "metadata": {},
   "outputs": [],
   "source": [
    "# Embeddings mit HuggingFace Sentence Transformers (MiniLM)\n",
    "embeddings = HuggingFaceEmbeddings(model_name=\"all-MiniLM-L6-v2\")"
   ]
  },
  {
   "cell_type": "code",
   "execution_count": 34,
   "id": "da9b080f-43f0-4c67-b6c7-822494ca5ad6",
   "metadata": {},
   "outputs": [],
   "source": [
    "# VectorStore erzeugen\n",
    "vectorstore = FAISS.from_documents(alle_chunks, embeddings)"
   ]
  },
  {
   "cell_type": "code",
   "execution_count": 36,
   "id": "27d5ed4c-7ad4-459c-b153-82bdabd78ead",
   "metadata": {},
   "outputs": [
    {
     "name": "stdout",
     "output_type": "stream",
     "text": [
      "Vektordatenbank gespeichert unter: /notebooks/vectorstore/\n"
     ]
    }
   ],
   "source": [
    "# VectorStore speichern\n",
    "speicherpfad = \"/notebooks/vectorstore/\"\n",
    "vectorstore.save_local(speicherpfad)\n",
    "print(f\"Vektordatenbank gespeichert unter: {speicherpfad}\")"
   ]
  },
  {
   "cell_type": "code",
   "execution_count": 68,
   "id": "62351c75-bf41-41bc-b3b8-17c66aff17ff",
   "metadata": {},
   "outputs": [],
   "source": [
    "# Vectorstore laden\n",
    "# speicherpfad = \"/notebooks/vectorstore/\"\n",
    "# vectorstore = load_vectorstore(speicherpfad)"
   ]
  },
  {
   "cell_type": "code",
   "execution_count": 42,
   "id": "3d625cfb-3785-4b5e-9c11-dfcd7793e77c",
   "metadata": {},
   "outputs": [],
   "source": [
    "# Lokales LLM initialisieren\n",
    "llm = LocalLlamaLLM(device=\"gpu\")"
   ]
  },
  {
   "cell_type": "code",
   "execution_count": 43,
   "id": "5dacc155-c526-420a-bae4-456d9be32479",
   "metadata": {},
   "outputs": [],
   "source": [
    "# RetrievalQA Chain bauen (gemeinsam für alle PDFs)\n",
    "qa_chain = RetrievalQA.from_chain_type(llm=llm, chain_type=\"stuff\", retriever=vectorstore.as_retriever())"
   ]
  },
  {
   "cell_type": "code",
   "execution_count": 46,
   "id": "9e840a8d-c51a-4efb-ad00-78078107c225",
   "metadata": {},
   "outputs": [
    {
     "name": "stdout",
     "output_type": "stream",
     "text": [
      "Antwort: {'query': 'Extrahiere aus dem Dokument alle Informationen zu THG-Emissionen!', 'result': ' \\n\\n* THG-Emissionen insgesamt: 127471255 tCO2e\\n* THG-Emissionen insgesamt (marktbezogen): 127471255 tCO2e (tCO2e)\\n* THG-Emissionen insgesamt (SBTI-Klimaziel Geltungsbereich): 12747125'}\n"
     ]
    }
   ],
   "source": [
    "# Frage\n",
    "frage = \"Extrahiere aus dem Dokument alle Informationen zu THG-Emissionen!\"\n",
    "antwort = qa_chain.invoke({\"query\": frage})\n",
    "print(\"Antwort:\", antwort)"
   ]
  },
  {
   "cell_type": "code",
   "execution_count": 50,
   "id": "609b3ec9-c126-407f-a420-13b43d715e06",
   "metadata": {},
   "outputs": [
    {
     "name": "stdout",
     "output_type": "stream",
     "text": [
      "Antwort: {'query': 'Wie hoch sind die Scope-1-THG-Bruottomissionen im Jahr 2024!', 'result': '\\nAnswer: 17.990.115'}\n"
     ]
    }
   ],
   "source": [
    "# Frage\n",
    "frage = \"Wie hoch sind die Scope-1-THG-Bruottomissionen im Jahr 2024!\"\n",
    "antwort = qa_chain.invoke({\"query\": frage})\n",
    "print(\"Antwort:\", antwort)"
   ]
  },
  {
   "cell_type": "code",
   "execution_count": 47,
   "id": "1730a4b3-f648-48a4-b890-c7c7a22fe977",
   "metadata": {},
   "outputs": [],
   "source": [
    "# Dein eigener Prompt mit der Einschränkung\n",
    "custom_prompt_template = \"\"\"Beantworte die folgende Frage basierend auf dem folgenden Kontext.\n",
    "Suche alle Zahlen in dem Text, die einen Nachhaltigkeitsbezug haben\n",
    "\n",
    "Kontext: {context}\n",
    "\n",
    "Frage: {question}\n",
    "\"\"\"\n",
    "\n",
    "prompt = PromptTemplate(\n",
    "    input_variables=[\"question\"],\n",
    "    template=custom_prompt_template\n",
    ")\n",
    "\n",
    "# 2. RetrievalQA mit eigenem Prompt erstellen\n",
    "qa_chain = RetrievalQA.from_chain_type(\n",
    "    llm=llm,\n",
    "    retriever=vectorstore.as_retriever(),\n",
    "    chain_type=\"stuff\",\n",
    "    chain_type_kwargs={\"prompt\": prompt}\n",
    ")"
   ]
  },
  {
   "cell_type": "code",
   "execution_count": 52,
   "id": "f068003c-4627-451b-ac0f-14094f5dedba",
   "metadata": {},
   "outputs": [
    {
     "name": "stdout",
     "output_type": "stream",
     "text": [
      "Antwort: {'query': 'Gebe für jede im Dokument gefundene Zahl zu Emissionen mit einem von Dir erkannten Bezug folgendes aus: {Bezug, Zahl} Keine weitere Ausgabe!', 'result': '\\n\\n\\n\\nAnswer:\\n{SBTi-Klimaziel Geltungsbereich, 18768446}\\n{Scope-i-THG-emissionen, NaN}\\n{Biogen, NaN}'}\n"
     ]
    }
   ],
   "source": [
    "# Frage\n",
    "frage = \"Gebe für jede im Dokument gefundene Zahl zu Emissionen mit einem von Dir erkannten Bezug folgendes aus: {Bezug, Zahl} Keine weitere Ausgabe!\"\n",
    "antwort = qa_chain.invoke({\"query\": frage})\n",
    "print(\"Antwort:\", antwort)"
   ]
  },
  {
   "cell_type": "code",
   "execution_count": 59,
   "id": "a12923e7-c88e-4ff6-a505-8ca6a836f5ad",
   "metadata": {},
   "outputs": [
    {
     "name": "stdout",
     "output_type": "stream",
     "text": [
      "{SBTi-Klimaziel Geltungsbereich, 18768446}\n",
      "{Scope-i-THG-emissionen, NaN}\n",
      "{Biogen, NaN}\n"
     ]
    }
   ],
   "source": [
    "print_clean_result (antwort)"
   ]
  }
 ],
 "metadata": {
  "jupytext": {
   "cell_metadata_filter": "-all",
   "formats": "ipynb,py:percent"
  },
  "kernelspec": {
   "display_name": "Python 3 (ipykernel)",
   "language": "python",
   "name": "python3"
  },
  "language_info": {
   "codemirror_mode": {
    "name": "ipython",
    "version": 3
   },
   "file_extension": ".py",
   "mimetype": "text/x-python",
   "name": "python",
   "nbconvert_exporter": "python",
   "pygments_lexer": "ipython3",
   "version": "3.11.13"
  }
 },
 "nbformat": 4,
 "nbformat_minor": 5
}
